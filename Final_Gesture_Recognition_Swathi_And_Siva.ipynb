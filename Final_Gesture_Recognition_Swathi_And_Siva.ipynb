{
 "cells": [
  {
   "cell_type": "markdown",
   "metadata": {
    "id": "6faF1tjOaAnb"
   },
   "source": [
    "# Deep Learning Course Project - Gesture Recognition\n",
    "### Problem Statement\n",
    "Imagine you are working as a data scientist at a home electronics company which manufactures state of the art smart televisions. You want to develop a cool feature in the smart-TV that can recognise five different gestures performed by the user which will help users control the TV without using a remote.\n",
    "\n",
    "The gestures are continuously monitored by the webcam mounted on the TV. Each gesture corresponds to a specific command:\n",
    "\n",
    "                Gesture\tCorresponding Action\n",
    "                Thumbs Up   -Increase the volume.\n",
    "                Thumbs Down -Decrease the volume.\n",
    "                Left Swipe\t-'Jump' backwards 10 seconds.\n",
    "                Right Swipe\t-'Jump' forward 10 seconds.\n",
    "                Stop\t    - Pause the movie.\n",
    "Each video is a sequence of 30 frames (or images).\n",
    "\n",
    "In this group project, you are going to build a 3D Conv model that will be able to predict the 5 gestures correctly. Please import the following libraries to get started.\n",
    "\n",
    "### Objectives:\n",
    "#### Generator:\n",
    "The generator should be able to take a batch of videos as input without any error. Steps like cropping, resizing and normalization should be performed successfully.\n",
    "\n",
    "#### Model:\n",
    "Develop a model that is able to train without any errors which will be judged on the total number of parameters (as the inference(prediction) time should be less) and the accuracy achieved. As suggested by Snehansu, start training on a small amount of data and then proceed further.\n",
    "\n",
    "#### Write up:\n",
    "This should contain the detailed procedure followed in choosing the final model. The write up should start with the reason for choosing the base model, then highlight the reasons and metrics taken into consideration to modify and experiment to arrive at the final model."
   ]
  },
  {
   "cell_type": "code",
   "execution_count": 1,
   "metadata": {
    "executionInfo": {
     "elapsed": 6352,
     "status": "ok",
     "timestamp": 1714561964593,
     "user": {
      "displayName": "Ramakrishna Garudadri",
      "userId": "05811049687691561584"
     },
     "user_tz": -330
    },
    "id": "PCVYHDWtaAnd"
   },
   "outputs": [],
   "source": [
    "import numpy as np\n",
    "import os\n",
    "import cv2\n",
    "from skimage.transform import resize\n",
    "import datetime\n",
    "import matplotlib.pyplot as plt\n",
    "from PIL import Image\n",
    "from tensorflow.keras.layers import Dense, GRU, Flatten, TimeDistributed, Flatten, BatchNormalization, Activation, Dropout, LSTM, Bidirectional, Conv2D, MaxPooling2D\n",
    "from tensorflow.keras.models import Sequential\n",
    "from tensorflow.keras.layers import Dense, GRU, Dropout, Flatten, BatchNormalization, Activation, Conv3D, MaxPooling3D\n",
    "from tensorflow.keras.callbacks import ModelCheckpoint, ReduceLROnPlateau\n",
    "from tensorflow.keras import optimizers"
   ]
  },
  {
   "cell_type": "markdown",
   "metadata": {
    "id": "bGhBFN31aAne"
   },
   "source": [
    "We set the random seed so that the results don't vary drastically."
   ]
  },
  {
   "cell_type": "code",
   "execution_count": 2,
   "metadata": {
    "executionInfo": {
     "elapsed": 725,
     "status": "ok",
     "timestamp": 1714561973785,
     "user": {
      "displayName": "Ramakrishna Garudadri",
      "userId": "05811049687691561584"
     },
     "user_tz": -330
    },
    "id": "0jO3SSZJaAne"
   },
   "outputs": [],
   "source": [
    "np.random.seed(30)\n",
    "import random as rn\n",
    "rn.seed(30)\n",
    "from tensorflow import keras\n",
    "from keras import backend as K\n",
    "import tensorflow as tf\n",
    "tf.random.set_seed(30)"
   ]
  },
  {
   "cell_type": "code",
   "execution_count": 3,
   "metadata": {
    "executionInfo": {
     "elapsed": 2,
     "status": "ok",
     "timestamp": 1714561974870,
     "user": {
      "displayName": "Ramakrishna Garudadri",
      "userId": "05811049687691561584"
     },
     "user_tz": -330
    },
    "id": "D7-0yzlnLqgd"
   },
   "outputs": [],
   "source": [
    "#Below environment variable is set in order to run the code in both JARVIS and COLAB without changes\n",
    "#environment = \"JARVIS\"\n",
    "environment = \"COLAB\""
   ]
  },
  {
   "cell_type": "code",
   "execution_count": 4,
   "metadata": {
    "colab": {
     "base_uri": "https://localhost:8080/"
    },
    "executionInfo": {
     "elapsed": 41805,
     "status": "ok",
     "timestamp": 1714562018516,
     "user": {
      "displayName": "Ramakrishna Garudadri",
      "userId": "05811049687691561584"
     },
     "user_tz": -330
    },
    "id": "92oNj5E4Lqge",
    "outputId": "7c49fc26-fddc-4c07-e210-4a378b5e40ae"
   },
   "outputs": [
    {
     "name": "stdout",
     "output_type": "stream",
     "text": [
      "Mounted at /content/gdrive\n"
     ]
    }
   ],
   "source": [
    "#Mount Google Drive\n",
    "if environment == \"COLAB\":\n",
    "  from google.colab import drive\n",
    "  drive.mount('/content/gdrive')"
   ]
  },
  {
   "cell_type": "code",
   "execution_count": 7,
   "metadata": {
    "executionInfo": {
     "elapsed": 46582,
     "status": "ok",
     "timestamp": 1714562122044,
     "user": {
      "displayName": "Ramakrishna Garudadri",
      "userId": "05811049687691561584"
     },
     "user_tz": -330
    },
    "id": "udEv7FzOLqge"
   },
   "outputs": [],
   "source": [
    "#!unzip \"/home/dl_content/Upgrad DL/Project_Data/Project_data.zip\" > /dev/null\n",
    "if environment == \"COLAB\":\n",
    "  !unzip \"/content/gdrive/MyDrive/DataSets/Project_data.zip\" > /dev/null"
   ]
  },
  {
   "cell_type": "code",
   "execution_count": 8,
   "metadata": {
    "colab": {
     "base_uri": "https://localhost:8080/"
    },
    "executionInfo": {
     "elapsed": 555,
     "status": "ok",
     "timestamp": 1714562146229,
     "user": {
      "displayName": "Ramakrishna Garudadri",
      "userId": "05811049687691561584"
     },
     "user_tz": -330
    },
    "id": "_lH5ffOhLqge",
    "outputId": "f4c79ac2-794a-4718-c19f-4606444e4f64"
   },
   "outputs": [
    {
     "name": "stdout",
     "output_type": "stream",
     "text": [
      "# training sequences = 663\n",
      "# validation sequences = 100\n"
     ]
    }
   ],
   "source": [
    "#Define the path of CSV files provided for Train, Validation\n",
    "#In this block, we read the folder names for training and validation\n",
    "if environment == \"COLAB\":\n",
    "  train_doc = np.random.permutation(open('/content/Project_data/train.csv').readlines())\n",
    "  val_doc = np.random.permutation(open('/content/Project_data/val.csv').readlines())\n",
    "elif environment == \"JARVIS\":\n",
    "  train_doc = np.random.permutation(open('datasets/Project_data/train.csv').readlines())\n",
    "  val_doc = np.random.permutation(open('datasets/Project_data/val.csv').readlines())\n",
    "num_train_sequences = len(train_doc)\n",
    "print('# training sequences =', num_train_sequences)\n",
    "num_val_sequences = len(val_doc)\n",
    "print('# validation sequences =', num_val_sequences)"
   ]
  },
  {
   "cell_type": "code",
   "execution_count": 9,
   "metadata": {
    "executionInfo": {
     "elapsed": 739,
     "status": "ok",
     "timestamp": 1714562155164,
     "user": {
      "displayName": "Ramakrishna Garudadri",
      "userId": "05811049687691561584"
     },
     "user_tz": -330
    },
    "id": "eiYRu2NoLqge"
   },
   "outputs": [],
   "source": [
    "if environment == \"COLAB\":\n",
    "  Proj_data_dir=\"/content/Project_data\"\n",
    "elif environment == \"JARVIS\":\n",
    "  Proj_data_dir = \"datasets/Project_data/\""
   ]
  },
  {
   "cell_type": "code",
   "execution_count": 10,
   "metadata": {
    "executionInfo": {
     "elapsed": 2,
     "status": "ok",
     "timestamp": 1714562156321,
     "user": {
      "displayName": "Ramakrishna Garudadri",
      "userId": "05811049687691561584"
     },
     "user_tz": -330
    },
    "id": "-nYXpOdGLqgf"
   },
   "outputs": [],
   "source": [
    "#Define the path\n",
    "train_path = Proj_data_dir + '/' + 'train'\n",
    "val_path =  Proj_data_dir + '/' + 'val'"
   ]
  },
  {
   "cell_type": "code",
   "execution_count": 11,
   "metadata": {
    "executionInfo": {
     "elapsed": 3,
     "status": "ok",
     "timestamp": 1714562157945,
     "user": {
      "displayName": "Ramakrishna Garudadri",
      "userId": "05811049687691561584"
     },
     "user_tz": -330
    },
    "id": "rNiNn_6Q2-Wx"
   },
   "outputs": [],
   "source": [
    "#API for cropping image\n",
    "def crop_center(image, crop_width, crop_height):\n",
    "    img_width, img_height = image.size\n",
    "    return image.crop(((img_width - crop_width) // 2,\n",
    "                         (img_height - crop_height) // 2,\n",
    "                         (img_width + crop_width) // 2,\n",
    "                         (img_height + crop_height) // 2))\n",
    "def crop_max_square(image):\n",
    "    return crop_center(image, min(image.size), min(image.size))"
   ]
  },
  {
   "cell_type": "code",
   "execution_count": 12,
   "metadata": {
    "executionInfo": {
     "elapsed": 532,
     "status": "ok",
     "timestamp": 1714562170429,
     "user": {
      "displayName": "Ramakrishna Garudadri",
      "userId": "05811049687691561584"
     },
     "user_tz": -330
    },
    "id": "dqfuQw1_pMf6"
   },
   "outputs": [],
   "source": [
    "#Implementation to handle last batch (if the number of images in last batch < batch size)\n",
    "def process_batch_data(source_path,t,batch,img_idx,remaining_seq=0,augment_data=False):\n",
    "    # we iterate over the number of batches\n",
    "    # for batch in range(num_batches)x is the number of images (len(img_idx)) used for each video\n",
    "    # (y,z) is the final size (height & width) of the input images and 3 is the number of channels RGB\n",
    "    seq_len = remaining_seq if remaining_seq else batch_size\n",
    "\n",
    "    batch_data = np.zeros((seq_len,len(img_idx),img_y,img_z,3))\n",
    "    batch_labels = np.zeros((seq_len,5))\n",
    "\n",
    "    for folder in range(seq_len): # iterate over the batch_size\n",
    "        # read all the images in the folder\n",
    "        imgs = os.listdir(source_path+'/'+ t[folder + (batch*batch_size)].split(';')[0])\n",
    "        for idx,item in enumerate(img_idx):\n",
    "            #  Iterate over the frames/images of a folder to read them in\n",
    "            image = Image.open(source_path+'/'+ t[folder + (batch*batch_size)].strip().split(';')[0]+'/'+imgs[item])\n",
    "\n",
    "            #Crop the images, if the hieght, width are different\n",
    "            if image.width > image.height:\n",
    "              image = crop_max_square(image)\n",
    "            elif image.height > image.width:\n",
    "              image = crop_max_square(image)\n",
    "\n",
    "            resized_image = image.resize((img_y,img_z))\n",
    "            resized_img_arr = np.array(resized_image).astype('float32')\n",
    "            # Normalize the images\n",
    "            batch_data[folder,idx,:,:,0] = (resized_img_arr[:,:,0])/255\n",
    "            batch_data[folder,idx,:,:,1] = (resized_img_arr[:,:,1])/255\n",
    "            batch_data[folder,idx,:,:,2] = (resized_img_arr[:,:,2])/255\n",
    "            #crop the images and resize them. Note that the images are of 2 different shape\n",
    "\n",
    "        #print(folder)\n",
    "        #print(t[folder + (batch*model_params.batch_size)])\n",
    "        batch_labels[folder, int(t[folder + (batch*batch_size)].strip().split(';')[2])] = 1\n",
    "\n",
    "    #print(\"batch_labels::\",batch_labels)\n",
    "    return(batch_data,batch_labels)"
   ]
  },
  {
   "cell_type": "markdown",
   "metadata": {
    "id": "EB7cANP9gMNC"
   },
   "source": [
    "## Generator\n",
    "This is one of the most important part of the code. The overall structure of the generator has been given. In the generator, you are going to preprocess the images as you have images of 2 different dimensions as well as create a batch of video frames. You have to experiment with `img_idx`, `height`,`width` and normalization such that you get high accuracy."
   ]
  },
  {
   "cell_type": "code",
   "execution_count": 13,
   "metadata": {
    "executionInfo": {
     "elapsed": 571,
     "status": "ok",
     "timestamp": 1714562175168,
     "user": {
      "displayName": "Ramakrishna Garudadri",
      "userId": "05811049687691561584"
     },
     "user_tz": -330
    },
    "id": "24LJdbP21eDg"
   },
   "outputs": [],
   "source": [
    "#Generator API\n",
    "def generator(source_path, folder_list,batch_size):\n",
    "    print( 'Source path = ', source_path, '; batch size =', batch_size)\n",
    "    #create a list of image numbers you want to use for a particular video\n",
    "    img_idx = np.round(np.linspace(0,29,frame_count)).astype(int)\n",
    "    while True:\n",
    "        t = np.random.permutation(folder_list)\n",
    "        num_batches = len(t)//batch_size\n",
    "        #Below code is to run the full batches\n",
    "        for batch in range(num_batches):\n",
    "            batch_data, batch_labels= process_batch_data(source_path,t,batch,img_idx,0)\n",
    "            yield batch_data, batch_labels\n",
    "        # write the code for the remaining data points which are left after full batches\n",
    "        remaining_imgs = len(t)%batch_size\n",
    "\n",
    "        if (remaining_imgs != 0):\n",
    "            batch_data, batch_labels= process_batch_data(source_path,t,num_batches,img_idx,remaining_imgs)\n",
    "            yield batch_data, batch_labels"
   ]
  },
  {
   "cell_type": "code",
   "execution_count": null,
   "metadata": {
    "colab": {
     "base_uri": "https://localhost:8080/"
    },
    "id": "JJffparcc3x-",
    "outputId": "40d23f08-ff7c-4202-c5ee-3aaf67ece8c6"
   },
   "outputs": [
    {
     "name": "stdout",
     "output_type": "stream",
     "text": [
      "Source path =  /content/Project_data/train ; batch size = 1\n"
     ]
    }
   ],
   "source": [
    "# testing generative\n",
    "# frame_count = 10\n",
    "# img_y =160\n",
    "# img_z =160\n",
    "# test_gen = generator(train_path, train_doc, 1)\n",
    "# d = next(test_gen)[0]"
   ]
  },
  {
   "cell_type": "code",
   "execution_count": 17,
   "metadata": {
    "executionInfo": {
     "elapsed": 873,
     "status": "ok",
     "timestamp": 1714562639384,
     "user": {
      "displayName": "Ramakrishna Garudadri",
      "userId": "05811049687691561584"
     },
     "user_tz": -330
    },
    "id": "WOgHyFIpLqgf"
   },
   "outputs": [],
   "source": [
    "def model_train_fit(model,train_path,train_doc,val_path, val_doc,batch_size,frame_count,img_y,img_z,num_train_sequences,num_val_sequences,num_epochs):\n",
    "    #creates  train_generator and  val_generator which will be used in .fit_generator.\n",
    "    train_generator = generator(train_path, train_doc, batch_size)\n",
    "    val_generator = generator(val_path, val_doc, batch_size)\n",
    "\n",
    "    model_name = '/content/gdrive/MyDrive/GR_best/Gesture_recog' + '_' + str(curr_dt_time).replace(' ','').replace(':','_') + '/'\n",
    "\n",
    "    if not os.path.exists(model_name):\n",
    "        os.mkdir(model_name)\n",
    "\n",
    "\n",
    "    filepath = model_name + 'model-{epoch:05d}-{loss:.5f}-{categorical_accuracy:.5f}-{val_loss:.5f}-{val_categorical_accuracy:.5f}.keras'\n",
    "\n",
    "    checkpoint = ModelCheckpoint(filepath, monitor='val_loss', verbose=1, save_best_only=True, save_weights_only=False, mode='auto', save_freq='epoch')\n",
    "\n",
    "    LR = ReduceLROnPlateau(monitor = \"val_loss\", factor = 0.2, patience = 3,verbose = 1)\n",
    "    callbacks_list = [checkpoint, LR]\n",
    "\n",
    "    #The `steps_per_epoch` and `validation_steps` are used by `fit` method to decide the number of next() calls it need to make.\n",
    "\n",
    "    if (num_train_sequences%batch_size) == 0:\n",
    "        steps_per_epoch = int(num_train_sequences/batch_size)\n",
    "    else:\n",
    "        steps_per_epoch = (num_train_sequences//batch_size) + 1\n",
    "\n",
    "    if (num_val_sequences%batch_size) == 0:\n",
    "        validation_steps = int(num_val_sequences/batch_size)\n",
    "    else:\n",
    "        validation_steps = (num_val_sequences//batch_size) + 1\n",
    "\n",
    "    #Let us now fit the model. This will start training the model and with the help of the checkpoints, you'll be able to save the model at the end of each epoch.\n",
    "    #The `steps_per_epoch` and `validation_steps` are used by `fit_generator` to decide the number of next() calls it need to make.\n",
    "\n",
    "    history = model.fit(train_generator, steps_per_epoch=steps_per_epoch, epochs=num_epochs, verbose=1,\n",
    "                        callbacks=callbacks_list, validation_data=val_generator,\n",
    "                        validation_steps=validation_steps, class_weight=None, workers=1,initial_epoch=0)\n",
    "    return history"
   ]
  },
  {
   "cell_type": "code",
   "execution_count": 15,
   "metadata": {
    "executionInfo": {
     "elapsed": 771,
     "status": "ok",
     "timestamp": 1714562212894,
     "user": {
      "displayName": "Ramakrishna Garudadri",
      "userId": "05811049687691561584"
     },
     "user_tz": -330
    },
    "id": "pc6WwuX5Lqgg"
   },
   "outputs": [],
   "source": [
    "#API to plot the model performance details\n",
    "def plot_model(history,epochs):\n",
    "  train_acc = history.history['categorical_accuracy']\n",
    "  val_acc = history.history['val_categorical_accuracy']\n",
    "\n",
    "  train_loss = history.history['loss']\n",
    "  val_loss = history.history['val_loss']\n",
    "\n",
    "  epochs_range = range(epochs)\n",
    "\n",
    "  plt.figure(figsize=(8, 8))\n",
    "  plt.subplot(1, 2, 1)\n",
    "  plt.plot(epochs_range, train_acc, label='Training Accuracy')\n",
    "  plt.plot(epochs_range, val_acc, label='Validation Accuracy')\n",
    "  plt.legend(loc='lower right')\n",
    "  plt.title('Training and Validation Accuracy')\n",
    "\n",
    "  plt.subplot(1, 2, 2)\n",
    "  plt.plot(epochs_range, train_loss, label='Training Loss')\n",
    "  plt.plot(epochs_range, val_loss, label='Validation Loss')\n",
    "  plt.legend(loc='upper right')\n",
    "  plt.title('Training and Validation Loss')\n",
    "  plt.show()"
   ]
  },
  {
   "cell_type": "code",
   "execution_count": 16,
   "metadata": {
    "colab": {
     "base_uri": "https://localhost:8080/"
    },
    "executionInfo": {
     "elapsed": 11,
     "status": "ok",
     "timestamp": 1714562222539,
     "user": {
      "displayName": "Ramakrishna Garudadri",
      "userId": "05811049687691561584"
     },
     "user_tz": -330
    },
    "id": "2Xg_1SVuaAnh",
    "outputId": "9b7cedfb-0ef5-4078-8606-06bf1199794f"
   },
   "outputs": [
    {
     "name": "stdout",
     "output_type": "stream",
     "text": [
      "# training sequences = 663\n",
      "# validation sequences = 100\n",
      "# epochs = 15\n"
     ]
    }
   ],
   "source": [
    "curr_dt_time = datetime.datetime.now()\n",
    "num_train_sequences = len(train_doc)\n",
    "print('# training sequences =', num_train_sequences)\n",
    "num_val_sequences = len(val_doc)\n",
    "print('# validation sequences =', num_val_sequences)\n",
    "num_epochs = 15# choose the number of epochs\n",
    "print ('# epochs =', num_epochs)"
   ]
  },
  {
   "cell_type": "markdown",
   "metadata": {
    "id": "vyySqF_WaAnh"
   },
   "source": [
    "## Model\n",
    "Here you make the model using different functionalities that Keras provides. Remember to use `Conv3D` and `MaxPooling3D` and not `Conv2D` and `Maxpooling2D` for a 3D convolution model. You would want to use `TimeDistributed` while building a Conv2D + RNN model. Also remember that the last layer is the softmax. Design the network in such a way that the model is able to give good accuracy on the least number of parameters so that it can fit in the memory of the webcam."
   ]
  },
  {
   "cell_type": "markdown",
   "metadata": {
    "id": "q4-ptnWHaAnh"
   },
   "source": [
    "\n",
    "\n",
    "```\n",
    "# This is formatted as code\n",
    "```\n",
    "\n",
    "### Base Conv3D Model_1"
   ]
  },
  {
   "cell_type": "code",
   "execution_count": null,
   "metadata": {
    "id": "IiqxB29UaAnh"
   },
   "outputs": [],
   "source": [
    "# Model is defined with 4 3D-Convolution layers with BatchNormalization ,MaxPooling with \"relu\"\n",
    "# followed by 2 Dense layers one Dense layer uses \"relu\"  activation and \"softmax\" for output for the different categories\n",
    "def define_model(Input_shape,dropout=0.2,dense_neurons=128):\n",
    "    model = Sequential()\n",
    "\n",
    "    #1st 3D Convolution layer\n",
    "    model.add(Conv3D(16, (2,2,2), padding='same',input_shape=Input_shape))\n",
    "    model.add(Activation('relu'))\n",
    "    model.add(BatchNormalization())\n",
    "    model.add(MaxPooling3D(pool_size=(2, 2, 2)))\n",
    "\n",
    "    # 2nd Convolution layer\n",
    "    model.add(Conv3D(32, (2,2,2), padding='same'))\n",
    "    model.add(Activation('relu'))\n",
    "    model.add(BatchNormalization())\n",
    "    model.add(MaxPooling3D(pool_size=(2,2,2)))\n",
    "\n",
    "    # 3rd Convolution layer\n",
    "    model.add(Conv3D(64, (2,2,2), padding='same'))\n",
    "    model.add(Activation('relu'))\n",
    "    model.add(BatchNormalization())\n",
    "    model.add(MaxPooling3D(pool_size=(2,2,2)))\n",
    "\n",
    "    # 4th Convolution layer\n",
    "    model.add(Conv3D(128, (2,2,2), padding='same'))\n",
    "    model.add(Activation('relu'))\n",
    "    model.add(BatchNormalization())\n",
    "    model.add(MaxPooling3D(pool_size=(2,2,2)))\n",
    "\n",
    "    # Flatten\n",
    "    model.add(Flatten())\n",
    "\n",
    "    #Dense\n",
    "    model.add(Dense(dense_neurons,activation='relu'))\n",
    "    model.add(BatchNormalization())\n",
    "    model.add(Dropout(dropout))\n",
    "\n",
    "    # No of Categories are 5\n",
    "    model.add(Dense(5,activation='softmax'))\n",
    "\n",
    "    #Model compilation,\n",
    "    optimiser = optimizers.Adam()\n",
    "    model.compile(optimizer=optimiser, loss='categorical_crossentropy', metrics=['categorical_accuracy'])\n",
    "\n",
    "    return model"
   ]
  },
  {
   "cell_type": "code",
   "execution_count": null,
   "metadata": {
    "colab": {
     "base_uri": "https://localhost:8080/"
    },
    "id": "kVwthQYNaAnh",
    "outputId": "f8375882-5335-4075-8367-2f6100021a4d",
    "scrolled": true
   },
   "outputs": [
    {
     "name": "stdout",
     "output_type": "stream",
     "text": [
      "Model: \"sequential_9\"\n",
      "_________________________________________________________________\n",
      " Layer (type)                Output Shape              Param #   \n",
      "=================================================================\n",
      " conv3d (Conv3D)             (None, 30, 160, 160, 16   400       \n",
      "                             )                                   \n",
      "                                                                 \n",
      " activation (Activation)     (None, 30, 160, 160, 16   0         \n",
      "                             )                                   \n",
      "                                                                 \n",
      " batch_normalization_41 (Ba  (None, 30, 160, 160, 16   64        \n",
      " tchNormalization)           )                                   \n",
      "                                                                 \n",
      " max_pooling3d (MaxPooling3  (None, 15, 80, 80, 16)    0         \n",
      " D)                                                              \n",
      "                                                                 \n",
      " conv3d_1 (Conv3D)           (None, 15, 80, 80, 32)    4128      \n",
      "                                                                 \n",
      " activation_1 (Activation)   (None, 15, 80, 80, 32)    0         \n",
      "                                                                 \n",
      " batch_normalization_42 (Ba  (None, 15, 80, 80, 32)    128       \n",
      " tchNormalization)                                               \n",
      "                                                                 \n",
      " max_pooling3d_1 (MaxPoolin  (None, 7, 40, 40, 32)     0         \n",
      " g3D)                                                            \n",
      "                                                                 \n",
      " conv3d_2 (Conv3D)           (None, 7, 40, 40, 64)     16448     \n",
      "                                                                 \n",
      " activation_2 (Activation)   (None, 7, 40, 40, 64)     0         \n",
      "                                                                 \n",
      " batch_normalization_43 (Ba  (None, 7, 40, 40, 64)     256       \n",
      " tchNormalization)                                               \n",
      "                                                                 \n",
      " max_pooling3d_2 (MaxPoolin  (None, 3, 20, 20, 64)     0         \n",
      " g3D)                                                            \n",
      "                                                                 \n",
      " conv3d_3 (Conv3D)           (None, 3, 20, 20, 128)    65664     \n",
      "                                                                 \n",
      " activation_3 (Activation)   (None, 3, 20, 20, 128)    0         \n",
      "                                                                 \n",
      " batch_normalization_44 (Ba  (None, 3, 20, 20, 128)    512       \n",
      " tchNormalization)                                               \n",
      "                                                                 \n",
      " max_pooling3d_3 (MaxPoolin  (None, 1, 10, 10, 128)    0         \n",
      " g3D)                                                            \n",
      "                                                                 \n",
      " flatten_9 (Flatten)         (None, 12800)             0         \n",
      "                                                                 \n",
      " dense_18 (Dense)            (None, 128)               1638528   \n",
      "                                                                 \n",
      " batch_normalization_45 (Ba  (None, 128)               512       \n",
      " tchNormalization)                                               \n",
      "                                                                 \n",
      " dropout_18 (Dropout)        (None, 128)               0         \n",
      "                                                                 \n",
      " dense_19 (Dense)            (None, 5)                 645       \n",
      "                                                                 \n",
      "=================================================================\n",
      "Total params: 1727285 (6.59 MB)\n",
      "Trainable params: 1726549 (6.59 MB)\n",
      "Non-trainable params: 736 (2.88 KB)\n",
      "_________________________________________________________________\n",
      "None\n"
     ]
    }
   ],
   "source": [
    "#Print the summary of the model, we will see the total number of parameters you have to train.\n",
    "frame_count=30\n",
    "img_y =160\n",
    "img_z =160\n",
    "num_epochs = 10\n",
    "Input_shape = (frame_count, img_y, img_z, 3)\n",
    "model_1 = define_model(Input_shape)\n",
    "batch_size = 32\n",
    "print (model_1.summary())"
   ]
  },
  {
   "cell_type": "markdown",
   "metadata": {
    "id": "SVGt16IYjEOK"
   },
   "source": [
    "This will start training the model and with the help of the checkpoints, you'll be able to save the model at the end of each epoch."
   ]
  },
  {
   "cell_type": "code",
   "execution_count": null,
   "metadata": {
    "colab": {
     "base_uri": "https://localhost:8080/"
    },
    "id": "GQaIYeJdaAni",
    "outputId": "2fb96e86-dcee-450d-c9e3-4ffe50214f51"
   },
   "outputs": [
    {
     "name": "stdout",
     "output_type": "stream",
     "text": [
      "Source path =  /content/Project_data/train ; batch size = 32\n",
      "Epoch 1/10\n",
      "21/21 [==============================] - ETA: 0s - loss: 1.1832 - categorical_accuracy: 0.5822Source path =  /content/Project_data/val ; batch size = 32\n",
      "\n",
      "Epoch 1: saving model to Gesture_recog_2024-05-0106_34_30.340110/model-00001-1.18325-0.58220-5.20891-0.21000.keras\n",
      "21/21 [==============================] - 119s 5s/step - loss: 1.1832 - categorical_accuracy: 0.5822 - val_loss: 5.2089 - val_categorical_accuracy: 0.2100 - lr: 0.0010\n",
      "Epoch 2/10\n",
      "21/21 [==============================] - ETA: 0s - loss: 0.3953 - categorical_accuracy: 0.8597\n",
      "Epoch 2: saving model to Gesture_recog_2024-05-0106_34_30.340110/model-00002-0.39532-0.85973-8.35479-0.17000.keras\n",
      "21/21 [==============================] - 102s 5s/step - loss: 0.3953 - categorical_accuracy: 0.8597 - val_loss: 8.3548 - val_categorical_accuracy: 0.1700 - lr: 0.0010\n",
      "Epoch 3/10\n",
      "21/21 [==============================] - ETA: 0s - loss: 0.1752 - categorical_accuracy: 0.9532\n",
      "Epoch 3: saving model to Gesture_recog_2024-05-0106_34_30.340110/model-00003-0.17524-0.95324-6.07513-0.26000.keras\n",
      "21/21 [==============================] - 95s 5s/step - loss: 0.1752 - categorical_accuracy: 0.9532 - val_loss: 6.0751 - val_categorical_accuracy: 0.2600 - lr: 0.0010\n",
      "Epoch 4/10\n",
      "21/21 [==============================] - ETA: 0s - loss: 0.0898 - categorical_accuracy: 0.9849\n",
      "Epoch 4: saving model to Gesture_recog_2024-05-0106_34_30.340110/model-00004-0.08981-0.98492-6.63777-0.19000.keras\n",
      "\n",
      "Epoch 4: ReduceLROnPlateau reducing learning rate to 0.00020000000949949026.\n",
      "21/21 [==============================] - 89s 4s/step - loss: 0.0898 - categorical_accuracy: 0.9849 - val_loss: 6.6378 - val_categorical_accuracy: 0.1900 - lr: 0.0010\n",
      "Epoch 5/10\n",
      "21/21 [==============================] - ETA: 0s - loss: 0.0444 - categorical_accuracy: 0.9955\n",
      "Epoch 5: saving model to Gesture_recog_2024-05-0106_34_30.340110/model-00005-0.04439-0.99548-6.59201-0.21000.keras\n",
      "21/21 [==============================] - 92s 5s/step - loss: 0.0444 - categorical_accuracy: 0.9955 - val_loss: 6.5920 - val_categorical_accuracy: 0.2100 - lr: 2.0000e-04\n",
      "Epoch 6/10\n",
      "21/21 [==============================] - ETA: 0s - loss: 0.0274 - categorical_accuracy: 1.0000\n",
      "Epoch 6: saving model to Gesture_recog_2024-05-0106_34_30.340110/model-00006-0.02738-1.00000-6.88934-0.22000.keras\n",
      "21/21 [==============================] - 91s 5s/step - loss: 0.0274 - categorical_accuracy: 1.0000 - val_loss: 6.8893 - val_categorical_accuracy: 0.2200 - lr: 2.0000e-04\n",
      "Epoch 7/10\n",
      "21/21 [==============================] - ETA: 0s - loss: 0.0280 - categorical_accuracy: 1.0000\n",
      "Epoch 7: saving model to Gesture_recog_2024-05-0106_34_30.340110/model-00007-0.02800-1.00000-7.87185-0.18000.keras\n",
      "\n",
      "Epoch 7: ReduceLROnPlateau reducing learning rate to 4.0000001899898055e-05.\n",
      "21/21 [==============================] - 92s 5s/step - loss: 0.0280 - categorical_accuracy: 1.0000 - val_loss: 7.8719 - val_categorical_accuracy: 0.1800 - lr: 2.0000e-04\n",
      "Epoch 8/10\n",
      "21/21 [==============================] - ETA: 0s - loss: 0.0233 - categorical_accuracy: 1.0000\n",
      "Epoch 8: saving model to Gesture_recog_2024-05-0106_34_30.340110/model-00008-0.02328-1.00000-7.50797-0.20000.keras\n",
      "21/21 [==============================] - 91s 5s/step - loss: 0.0233 - categorical_accuracy: 1.0000 - val_loss: 7.5080 - val_categorical_accuracy: 0.2000 - lr: 4.0000e-05\n",
      "Epoch 9/10\n",
      "21/21 [==============================] - ETA: 0s - loss: 0.0240 - categorical_accuracy: 1.0000\n",
      "Epoch 9: saving model to Gesture_recog_2024-05-0106_34_30.340110/model-00009-0.02395-1.00000-7.48280-0.21000.keras\n",
      "21/21 [==============================] - 92s 5s/step - loss: 0.0240 - categorical_accuracy: 1.0000 - val_loss: 7.4828 - val_categorical_accuracy: 0.2100 - lr: 4.0000e-05\n",
      "Epoch 10/10\n",
      "21/21 [==============================] - ETA: 0s - loss: 0.0199 - categorical_accuracy: 1.0000\n",
      "Epoch 10: saving model to Gesture_recog_2024-05-0106_34_30.340110/model-00010-0.01988-1.00000-7.64384-0.20000.keras\n",
      "\n",
      "Epoch 10: ReduceLROnPlateau reducing learning rate to 8.000000525498762e-06.\n",
      "21/21 [==============================] - 92s 5s/step - loss: 0.0199 - categorical_accuracy: 1.0000 - val_loss: 7.6438 - val_categorical_accuracy: 0.2000 - lr: 4.0000e-05\n"
     ]
    }
   ],
   "source": [
    "history1 = model_train_fit(model_1,train_path,train_doc,val_path, val_doc,batch_size,\n",
    "                      frame_count,img_y,img_z,num_train_sequences,num_val_sequences,num_epochs)"
   ]
  },
  {
   "cell_type": "code",
   "execution_count": null,
   "metadata": {
    "colab": {
     "base_uri": "https://localhost:8080/",
     "height": 699
    },
    "id": "vN8H8S4FLqgh",
    "outputId": "1def1166-5511-4ff4-e547-cfedfefff37c"
   },
   "outputs": [
    {
     "data": {
      "image/png": "[encoded data removed]",
      "text/plain": [
       "<Figure size 800x800 with 2 Axes>"
      ]
     },
     "metadata": {},
     "output_type": "display_data"
    }
   ],
   "source": [
    "plot_model(history1,num_epochs)"
   ]
  },
  {
   "cell_type": "markdown",
   "metadata": {},
   "source": [
    "Observation: Model is Overfitting, Lets decrease the frames and resize the image, to increase the overall accuracy"
   ]
  },
  {
   "cell_type": "markdown",
   "metadata": {
    "id": "I6h2OvxMaAni"
   },
   "source": [
    "### Conv3D Model_2\n",
    " Reducing number of frames to  20 and image size to 120*120 and batch size = 20"
   ]
  },
  {
   "cell_type": "code",
   "execution_count": null,
   "metadata": {
    "colab": {
     "base_uri": "https://localhost:8080/"
    },
    "id": "7E48DbyZaAni",
    "outputId": "23580e2a-8065-41fe-e2b9-9f904e6f0fdd"
   },
   "outputs": [
    {
     "name": "stdout",
     "output_type": "stream",
     "text": [
      "Model: \"sequential_3\"\n",
      "_________________________________________________________________\n",
      " Layer (type)                Output Shape              Param #   \n",
      "=================================================================\n",
      " conv3d_12 (Conv3D)          (None, 25, 120, 120, 16)  400       \n",
      "                                                                 \n",
      " activation_12 (Activation)  (None, 25, 120, 120, 16)  0         \n",
      "                                                                 \n",
      " batch_normalization_15 (Bat  (None, 25, 120, 120, 16)  64       \n",
      " chNormalization)                                                \n",
      "                                                                 \n",
      " max_pooling3d_12 (MaxPoolin  (None, 12, 60, 60, 16)   0         \n",
      " g3D)                                                            \n",
      "                                                                 \n",
      " conv3d_13 (Conv3D)          (None, 12, 60, 60, 32)    4128      \n",
      "                                                                 \n",
      " activation_13 (Activation)  (None, 12, 60, 60, 32)    0         \n",
      "                                                                 \n",
      " batch_normalization_16 (Bat  (None, 12, 60, 60, 32)   128       \n",
      " chNormalization)                                                \n",
      "                                                                 \n",
      " max_pooling3d_13 (MaxPoolin  (None, 6, 30, 30, 32)    0         \n",
      " g3D)                                                            \n",
      "                                                                 \n",
      " conv3d_14 (Conv3D)          (None, 6, 30, 30, 64)     16448     \n",
      "                                                                 \n",
      " activation_14 (Activation)  (None, 6, 30, 30, 64)     0         \n",
      "                                                                 \n",
      " batch_normalization_17 (Bat  (None, 6, 30, 30, 64)    256       \n",
      " chNormalization)                                                \n",
      "                                                                 \n",
      " max_pooling3d_14 (MaxPoolin  (None, 3, 15, 15, 64)    0         \n",
      " g3D)                                                            \n",
      "                                                                 \n",
      " conv3d_15 (Conv3D)          (None, 3, 15, 15, 128)    65664     \n",
      "                                                                 \n",
      " activation_15 (Activation)  (None, 3, 15, 15, 128)    0         \n",
      "                                                                 \n",
      " batch_normalization_18 (Bat  (None, 3, 15, 15, 128)   512       \n",
      " chNormalization)                                                \n",
      "                                                                 \n",
      " max_pooling3d_15 (MaxPoolin  (None, 1, 7, 7, 128)     0         \n",
      " g3D)                                                            \n",
      "                                                                 \n",
      " flatten_3 (Flatten)         (None, 6272)              0         \n",
      "                                                                 \n",
      " dense_6 (Dense)             (None, 128)               802944    \n",
      "                                                                 \n",
      " batch_normalization_19 (Bat  (None, 128)              512       \n",
      " chNormalization)                                                \n",
      "                                                                 \n",
      " dropout_3 (Dropout)         (None, 128)               0         \n",
      "                                                                 \n",
      " dense_7 (Dense)             (None, 5)                 645       \n",
      "                                                                 \n",
      "=================================================================\n",
      "Total params: 891,701\n",
      "Trainable params: 890,965\n",
      "Non-trainable params: 736\n",
      "_________________________________________________________________\n",
      "None\n"
     ]
    }
   ],
   "source": [
    "frame_count=25\n",
    "img_y =120\n",
    "img_z =120\n",
    "num_epochs = 10\n",
    "Input_shape = (frame_count, img_y, img_z, 3)\n",
    "batch_size = 20\n",
    "model_2 = define_model(Input_shape)\n",
    "print (model_2.summary())"
   ]
  },
  {
   "cell_type": "code",
   "execution_count": null,
   "metadata": {
    "id": "ZZSFbEXWLqgi",
    "outputId": "214f4b15-d6ee-4129-c8c0-7c36c4d7ed95"
   },
   "outputs": [
    {
     "name": "stdout",
     "output_type": "stream",
     "text": [
      "Source path =  datasets/Project_data/train ; batch size = 20\n",
      "Epoch 1/10\n",
      "34/34 [==============================] - ETA: 0s - loss: 1.1451 - categorical_accuracy: 0.5505Source path =  datasets/Project_data/val ; batch size = 20\n",
      "\n",
      "Epoch 00001: saving model to Gesture_recog_2024-04-3011_56_25.410900/model-00001-1.14509-0.55053-4.25467-0.16000.h5\n",
      "34/34 [==============================] - 127s 4s/step - loss: 1.1451 - categorical_accuracy: 0.5505 - val_loss: 4.2547 - val_categorical_accuracy: 0.1600 - lr: 0.0010\n",
      "Epoch 2/10\n",
      "34/34 [==============================] - ETA: 0s - loss: 1.2502 - categorical_accuracy: 0.5098\n",
      "Epoch 00002: saving model to Gesture_recog_2024-04-3011_56_25.410900/model-00002-1.25016-0.50980-5.21575-0.17000.h5\n",
      "34/34 [==============================] - 33s 1s/step - loss: 1.2502 - categorical_accuracy: 0.5098 - val_loss: 5.2158 - val_categorical_accuracy: 0.1700 - lr: 0.0010\n",
      "Epoch 3/10\n",
      "34/34 [==============================] - ETA: 0s - loss: 1.2687 - categorical_accuracy: 0.5098\n",
      "Epoch 00003: saving model to Gesture_recog_2024-04-3011_56_25.410900/model-00003-1.26870-0.50980-7.21785-0.15000.h5\n",
      "34/34 [==============================] - 32s 966ms/step - loss: 1.2687 - categorical_accuracy: 0.5098 - val_loss: 7.2179 - val_categorical_accuracy: 0.1500 - lr: 0.0010\n",
      "Epoch 4/10\n",
      "34/34 [==============================] - ETA: 0s - loss: 1.4983 - categorical_accuracy: 0.4020\n",
      "Epoch 00004: saving model to Gesture_recog_2024-04-3011_56_25.410900/model-00004-1.49832-0.40196-8.35694-0.16000.h5\n",
      "34/34 [==============================] - 34s 1s/step - loss: 1.4983 - categorical_accuracy: 0.4020 - val_loss: 8.3569 - val_categorical_accuracy: 0.1600 - lr: 1.0000e-04\n",
      "Epoch 5/10\n",
      "34/34 [==============================] - ETA: 0s - loss: 1.2760 - categorical_accuracy: 0.5294\n",
      "Epoch 00005: saving model to Gesture_recog_2024-04-3011_56_25.410900/model-00005-1.27605-0.52941-8.37691-0.19000.h5\n",
      "34/34 [==============================] - 34s 1s/step - loss: 1.2760 - categorical_accuracy: 0.5294 - val_loss: 8.3769 - val_categorical_accuracy: 0.1900 - lr: 1.0000e-04\n",
      "Epoch 6/10\n",
      "34/34 [==============================] - ETA: 0s - loss: 1.2956 - categorical_accuracy: 0.4706\n",
      "Epoch 00006: saving model to Gesture_recog_2024-04-3011_56_25.410900/model-00006-1.29556-0.47059-10.03930-0.16000.h5\n",
      "34/34 [==============================] - 36s 1s/step - loss: 1.2956 - categorical_accuracy: 0.4706 - val_loss: 10.0393 - val_categorical_accuracy: 0.1600 - lr: 1.0000e-05\n",
      "Epoch 7/10\n",
      "34/34 [==============================] - ETA: 0s - loss: 1.1180 - categorical_accuracy: 0.5098\n",
      "Epoch 00007: saving model to Gesture_recog_2024-04-3011_56_25.410900/model-00007-1.11803-0.50980-10.19005-0.14000.h5\n",
      "34/34 [==============================] - 33s 996ms/step - loss: 1.1180 - categorical_accuracy: 0.5098 - val_loss: 10.1900 - val_categorical_accuracy: 0.1400 - lr: 1.0000e-05\n",
      "Epoch 8/10\n",
      "34/34 [==============================] - ETA: 0s - loss: 1.1753 - categorical_accuracy: 0.5686\n",
      "Epoch 00008: saving model to Gesture_recog_2024-04-3011_56_25.410900/model-00008-1.17525-0.56863-10.47113-0.13000.h5\n",
      "34/34 [==============================] - 35s 1s/step - loss: 1.1753 - categorical_accuracy: 0.5686 - val_loss: 10.4711 - val_categorical_accuracy: 0.1300 - lr: 1.0000e-06\n",
      "Epoch 9/10\n",
      "34/34 [==============================] - ETA: 0s - loss: 0.9511 - categorical_accuracy: 0.6275\n",
      "Epoch 00009: saving model to Gesture_recog_2024-04-3011_56_25.410900/model-00009-0.95112-0.62745-8.67712-0.18000.h5\n",
      "34/34 [==============================] - 34s 1s/step - loss: 0.9511 - categorical_accuracy: 0.6275 - val_loss: 8.6771 - val_categorical_accuracy: 0.1800 - lr: 1.0000e-06\n",
      "Epoch 10/10\n",
      "34/34 [==============================] - ETA: 0s - loss: 1.1352 - categorical_accuracy: 0.4902\n",
      "Epoch 00010: saving model to Gesture_recog_2024-04-3011_56_25.410900/model-00010-1.13516-0.49020-6.29035-0.22000.h5\n",
      "34/34 [==============================] - 34s 1s/step - loss: 1.1352 - categorical_accuracy: 0.4902 - val_loss: 6.2903 - val_categorical_accuracy: 0.2200 - lr: 1.0000e-07\n"
     ]
    }
   ],
   "source": [
    "history2 = model_train_fit(model_2,train_path,train_doc,val_path, val_doc,batch_size,\n",
    "                      frame_count,img_y,img_z,num_train_sequences,num_val_sequences,num_epochs)"
   ]
  },
  {
   "cell_type": "code",
   "execution_count": null,
   "metadata": {
    "id": "9lowqMENLqgi",
    "outputId": "75b0d46d-910f-47b1-f5a6-ec7bb25506f4"
   },
   "outputs": [
    {
     "data": {
      "image/png": "[encoded data removed]",
      "text/plain": [
       "<Figure size 576x576 with 2 Axes>"
      ]
     },
     "metadata": {
      "needs_background": "light"
     },
     "output_type": "display_data"
    }
   ],
   "source": [
    "plot_model(history2,num_epochs)"
   ]
  },
  {
   "cell_type": "markdown",
   "metadata": {},
   "source": [
    "Observation:Still overfitting, as well as the model training accuracy reduced as compare to base model."
   ]
  },
  {
   "cell_type": "markdown",
   "metadata": {
    "id": "r9mlKXpAaAni"
   },
   "source": [
    "### Conv3D Model_3\n",
    "Increaing Dropout % to 0.4 from 0.2 and increaing image size back to 160*160"
   ]
  },
  {
   "cell_type": "code",
   "execution_count": null,
   "metadata": {
    "colab": {
     "base_uri": "https://localhost:8080/"
    },
    "id": "81CyP-TFaAni",
    "outputId": "af82278f-eaee-4e31-edbb-1d5f1845aae8"
   },
   "outputs": [
    {
     "name": "stdout",
     "output_type": "stream",
     "text": [
      "Model: \"sequential_4\"\n",
      "_________________________________________________________________\n",
      " Layer (type)                Output Shape              Param #   \n",
      "=================================================================\n",
      " conv3d_16 (Conv3D)          (None, 20, 160, 160, 16)  400       \n",
      "                                                                 \n",
      " activation_16 (Activation)  (None, 20, 160, 160, 16)  0         \n",
      "                                                                 \n",
      " batch_normalization_20 (Bat  (None, 20, 160, 160, 16)  64       \n",
      " chNormalization)                                                \n",
      "                                                                 \n",
      " max_pooling3d_16 (MaxPoolin  (None, 10, 80, 80, 16)   0         \n",
      " g3D)                                                            \n",
      "                                                                 \n",
      " conv3d_17 (Conv3D)          (None, 10, 80, 80, 32)    4128      \n",
      "                                                                 \n",
      " activation_17 (Activation)  (None, 10, 80, 80, 32)    0         \n",
      "                                                                 \n",
      " batch_normalization_21 (Bat  (None, 10, 80, 80, 32)   128       \n",
      " chNormalization)                                                \n",
      "                                                                 \n",
      " max_pooling3d_17 (MaxPoolin  (None, 5, 40, 40, 32)    0         \n",
      " g3D)                                                            \n",
      "                                                                 \n",
      " conv3d_18 (Conv3D)          (None, 5, 40, 40, 64)     16448     \n",
      "                                                                 \n",
      " activation_18 (Activation)  (None, 5, 40, 40, 64)     0         \n",
      "                                                                 \n",
      " batch_normalization_22 (Bat  (None, 5, 40, 40, 64)    256       \n",
      " chNormalization)                                                \n",
      "                                                                 \n",
      " max_pooling3d_18 (MaxPoolin  (None, 2, 20, 20, 64)    0         \n",
      " g3D)                                                            \n",
      "                                                                 \n",
      " conv3d_19 (Conv3D)          (None, 2, 20, 20, 128)    65664     \n",
      "                                                                 \n",
      " activation_19 (Activation)  (None, 2, 20, 20, 128)    0         \n",
      "                                                                 \n",
      " batch_normalization_23 (Bat  (None, 2, 20, 20, 128)   512       \n",
      " chNormalization)                                                \n",
      "                                                                 \n",
      " max_pooling3d_19 (MaxPoolin  (None, 1, 10, 10, 128)   0         \n",
      " g3D)                                                            \n",
      "                                                                 \n",
      " flatten_4 (Flatten)         (None, 12800)             0         \n",
      "                                                                 \n",
      " dense_8 (Dense)             (None, 128)               1638528   \n",
      "                                                                 \n",
      " batch_normalization_24 (Bat  (None, 128)              512       \n",
      " chNormalization)                                                \n",
      "                                                                 \n",
      " dropout_4 (Dropout)         (None, 128)               0         \n",
      "                                                                 \n",
      " dense_9 (Dense)             (None, 5)                 645       \n",
      "                                                                 \n",
      "=================================================================\n",
      "Total params: 1,727,285\n",
      "Trainable params: 1,726,549\n",
      "Non-trainable params: 736\n",
      "_________________________________________________________________\n",
      "None\n"
     ]
    }
   ],
   "source": [
    "frame_count=20\n",
    "img_y =160\n",
    "img_z =160\n",
    "Input_shape = (frame_count, img_y, img_z, 3)\n",
    "model_3 = define_model(Input_shape,0.40)\n",
    "num_epochs = 15\n",
    "batch_size = 25\n",
    "print (model_3.summary())"
   ]
  },
  {
   "cell_type": "code",
   "execution_count": null,
   "metadata": {
    "colab": {
     "base_uri": "https://localhost:8080/"
    },
    "id": "HsmV93oLaAnj",
    "outputId": "b98a93ff-20d4-4a94-d699-79fbfe191364"
   },
   "outputs": [
    {
     "name": "stdout",
     "output_type": "stream",
     "text": [
      "Source path =  datasets/Project_data/train ; batch size = 25\n",
      "Epoch 1/15\n",
      "27/27 [==============================] - ETA: 0s - loss: 1.3345 - categorical_accuracy: 0.5158Source path =  datasets/Project_data/val ; batch size = 25\n",
      "\n",
      "Epoch 00001: saving model to Gesture_recog_2024-04-3011_56_25.410900/model-00001-1.33448-0.51584-2.76400-0.16000.h5\n",
      "27/27 [==============================] - 108s 4s/step - loss: 1.3345 - categorical_accuracy: 0.5158 - val_loss: 2.7640 - val_categorical_accuracy: 0.1600 - lr: 0.0010\n",
      "Epoch 2/15\n",
      "27/27 [==============================] - ETA: 0s - loss: 0.7522 - categorical_accuracy: 0.6980\n",
      "Epoch 00002: saving model to Gesture_recog_2024-04-3011_56_25.410900/model-00002-0.75219-0.69801-4.58655-0.16000.h5\n",
      "27/27 [==============================] - 65s 2s/step - loss: 0.7522 - categorical_accuracy: 0.6980 - val_loss: 4.5866 - val_categorical_accuracy: 0.1600 - lr: 0.0010\n",
      "Epoch 3/15\n",
      "27/27 [==============================] - ETA: 0s - loss: 0.6425 - categorical_accuracy: 0.7607\n",
      "Epoch 00003: saving model to Gesture_recog_2024-04-3011_56_25.410900/model-00003-0.64254-0.76068-5.12543-0.28000.h5\n",
      "\n",
      "Epoch 00003: ReduceLROnPlateau reducing learning rate to 0.00010000000474974513.\n",
      "27/27 [==============================] - 70s 3s/step - loss: 0.6425 - categorical_accuracy: 0.7607 - val_loss: 5.1254 - val_categorical_accuracy: 0.2800 - lr: 0.0010\n",
      "Epoch 4/15\n",
      "27/27 [==============================] - ETA: 0s - loss: 0.6483 - categorical_accuracy: 0.7493\n",
      "Epoch 00004: saving model to Gesture_recog_2024-04-3011_56_25.410900/model-00004-0.64830-0.74929-5.85843-0.21000.h5\n",
      "27/27 [==============================] - 71s 3s/step - loss: 0.6483 - categorical_accuracy: 0.7493 - val_loss: 5.8584 - val_categorical_accuracy: 0.2100 - lr: 1.0000e-04\n",
      "Epoch 5/15\n",
      "27/27 [==============================] - ETA: 0s - loss: 0.4010 - categorical_accuracy: 0.8604\n",
      "Epoch 00005: saving model to Gesture_recog_2024-04-3011_56_25.410900/model-00005-0.40099-0.86040-5.42377-0.23000.h5\n",
      "\n",
      "Epoch 00005: ReduceLROnPlateau reducing learning rate to 1.0000000474974514e-05.\n",
      "27/27 [==============================] - 71s 3s/step - loss: 0.4010 - categorical_accuracy: 0.8604 - val_loss: 5.4238 - val_categorical_accuracy: 0.2300 - lr: 1.0000e-04\n",
      "Epoch 6/15\n",
      "27/27 [==============================] - ETA: 0s - loss: 0.4052 - categorical_accuracy: 0.8632\n",
      "Epoch 00006: saving model to Gesture_recog_2024-04-3011_56_25.410900/model-00006-0.40516-0.86325-5.30205-0.21000.h5\n",
      "27/27 [==============================] - 70s 3s/step - loss: 0.4052 - categorical_accuracy: 0.8632 - val_loss: 5.3021 - val_categorical_accuracy: 0.2100 - lr: 1.0000e-05\n",
      "Epoch 7/15\n",
      "27/27 [==============================] - ETA: 0s - loss: 0.3264 - categorical_accuracy: 0.8889\n",
      "Epoch 00007: saving model to Gesture_recog_2024-04-3011_56_25.410900/model-00007-0.32638-0.88889-5.44112-0.23000.h5\n",
      "\n",
      "Epoch 00007: ReduceLROnPlateau reducing learning rate to 1.0000000656873453e-06.\n",
      "27/27 [==============================] - 67s 3s/step - loss: 0.3264 - categorical_accuracy: 0.8889 - val_loss: 5.4411 - val_categorical_accuracy: 0.2300 - lr: 1.0000e-05\n",
      "Epoch 8/15\n",
      "27/27 [==============================] - ETA: 0s - loss: 0.3047 - categorical_accuracy: 0.9003\n",
      "Epoch 00008: saving model to Gesture_recog_2024-04-3011_56_25.410900/model-00008-0.30471-0.90028-5.51336-0.19000.h5\n",
      "27/27 [==============================] - 67s 3s/step - loss: 0.3047 - categorical_accuracy: 0.9003 - val_loss: 5.5134 - val_categorical_accuracy: 0.1900 - lr: 1.0000e-06\n",
      "Epoch 9/15\n",
      "27/27 [==============================] - ETA: 0s - loss: 0.3602 - categorical_accuracy: 0.8803\n",
      "Epoch 00009: saving model to Gesture_recog_2024-04-3011_56_25.410900/model-00009-0.36024-0.88034-5.13914-0.25000.h5\n",
      "\n",
      "Epoch 00009: ReduceLROnPlateau reducing learning rate to 1.0000001111620805e-07.\n",
      "27/27 [==============================] - 67s 3s/step - loss: 0.3602 - categorical_accuracy: 0.8803 - val_loss: 5.1391 - val_categorical_accuracy: 0.2500 - lr: 1.0000e-06\n",
      "Epoch 10/15\n",
      "27/27 [==============================] - ETA: 0s - loss: 0.3435 - categorical_accuracy: 0.9117\n",
      "Epoch 00010: saving model to Gesture_recog_2024-04-3011_56_25.410900/model-00010-0.34353-0.91168-4.83167-0.27000.h5\n",
      "27/27 [==============================] - 67s 3s/step - loss: 0.3435 - categorical_accuracy: 0.9117 - val_loss: 4.8317 - val_categorical_accuracy: 0.2700 - lr: 1.0000e-07\n",
      "Epoch 11/15\n",
      "27/27 [==============================] - ETA: 0s - loss: 0.3675 - categorical_accuracy: 0.8632\n",
      "Epoch 00011: saving model to Gesture_recog_2024-04-3011_56_25.410900/model-00011-0.36749-0.86325-4.34627-0.32000.h5\n",
      "\n",
      "Epoch 00011: ReduceLROnPlateau reducing learning rate to 1.000000082740371e-08.\n",
      "27/27 [==============================] - 68s 3s/step - loss: 0.3675 - categorical_accuracy: 0.8632 - val_loss: 4.3463 - val_categorical_accuracy: 0.3200 - lr: 1.0000e-07\n",
      "Epoch 12/15\n",
      "27/27 [==============================] - ETA: 0s - loss: 0.3405 - categorical_accuracy: 0.8803\n",
      "Epoch 00012: saving model to Gesture_recog_2024-04-3011_56_25.410900/model-00012-0.34052-0.88034-4.13851-0.29000.h5\n",
      "27/27 [==============================] - 68s 3s/step - loss: 0.3405 - categorical_accuracy: 0.8803 - val_loss: 4.1385 - val_categorical_accuracy: 0.2900 - lr: 1.0000e-08\n",
      "Epoch 13/15\n",
      "27/27 [==============================] - ETA: 0s - loss: 0.3124 - categorical_accuracy: 0.8946\n",
      "Epoch 00013: saving model to Gesture_recog_2024-04-3011_56_25.410900/model-00013-0.31242-0.89459-3.61892-0.32000.h5\n",
      "\n",
      "Epoch 00013: ReduceLROnPlateau reducing learning rate to 1.000000082740371e-09.\n",
      "27/27 [==============================] - 67s 3s/step - loss: 0.3124 - categorical_accuracy: 0.8946 - val_loss: 3.6189 - val_categorical_accuracy: 0.3200 - lr: 1.0000e-08\n",
      "Epoch 14/15\n",
      "27/27 [==============================] - ETA: 0s - loss: 0.3426 - categorical_accuracy: 0.8860\n",
      "Epoch 00014: saving model to Gesture_recog_2024-04-3011_56_25.410900/model-00014-0.34255-0.88604-3.08583-0.38000.h5\n",
      "27/27 [==============================] - 70s 3s/step - loss: 0.3426 - categorical_accuracy: 0.8860 - val_loss: 3.0858 - val_categorical_accuracy: 0.3800 - lr: 1.0000e-09\n",
      "Epoch 15/15\n",
      "27/27 [==============================] - ETA: 0s - loss: 0.3203 - categorical_accuracy: 0.9060\n",
      "Epoch 00015: saving model to Gesture_recog_2024-04-3011_56_25.410900/model-00015-0.32026-0.90598-2.97615-0.28000.h5\n",
      "\n",
      "Epoch 00015: ReduceLROnPlateau reducing learning rate to 1.000000082740371e-10.\n",
      "27/27 [==============================] - 70s 3s/step - loss: 0.3203 - categorical_accuracy: 0.9060 - val_loss: 2.9761 - val_categorical_accuracy: 0.2800 - lr: 1.0000e-09\n"
     ]
    }
   ],
   "source": [
    "history3 = model_train_fit(model_3,train_path,train_doc,val_path, val_doc,batch_size,\n",
    "                      frame_count,img_y,img_z,num_train_sequences,num_val_sequences,num_epochs)"
   ]
  },
  {
   "cell_type": "code",
   "execution_count": null,
   "metadata": {
    "id": "YOyfJa5PLqgi",
    "outputId": "ed01090a-2f2d-4abb-c738-7c219daffa8c"
   },
   "outputs": [
    {
     "data": {
      "image/png": "[encoded data removed]",
      "text/plain": [
       "<Figure size 576x576 with 2 Axes>"
      ]
     },
     "metadata": {
      "needs_background": "light"
     },
     "output_type": "display_data"
    }
   ],
   "source": [
    "plot_model(history3,num_epochs)"
   ]
  },
  {
   "cell_type": "markdown",
   "metadata": {},
   "source": [
    "Observation:Model is still Overfitting."
   ]
  },
  {
   "cell_type": "markdown",
   "metadata": {
    "id": "lQRzyBdgj5sn"
   },
   "source": [
    "### CON3D Model_4\n",
    "Increasing number of neurons in Dense layer and also applying explicit LR instead of default LR"
   ]
  },
  {
   "cell_type": "code",
   "execution_count": null,
   "metadata": {
    "id": "pHZ115T1Lqgi",
    "outputId": "5665e58b-10c0-403e-dbe3-3b0e41b094b6"
   },
   "outputs": [
    {
     "name": "stdout",
     "output_type": "stream",
     "text": [
      "Model: \"sequential_5\"\n",
      "_________________________________________________________________\n",
      " Layer (type)                Output Shape              Param #   \n",
      "=================================================================\n",
      " conv3d_20 (Conv3D)          (None, 20, 130, 130, 16)  400       \n",
      "                                                                 \n",
      " activation_20 (Activation)  (None, 20, 130, 130, 16)  0         \n",
      "                                                                 \n",
      " batch_normalization_25 (Bat  (None, 20, 130, 130, 16)  64       \n",
      " chNormalization)                                                \n",
      "                                                                 \n",
      " max_pooling3d_20 (MaxPoolin  (None, 10, 65, 65, 16)   0         \n",
      " g3D)                                                            \n",
      "                                                                 \n",
      " conv3d_21 (Conv3D)          (None, 10, 65, 65, 32)    4128      \n",
      "                                                                 \n",
      " activation_21 (Activation)  (None, 10, 65, 65, 32)    0         \n",
      "                                                                 \n",
      " batch_normalization_26 (Bat  (None, 10, 65, 65, 32)   128       \n",
      " chNormalization)                                                \n",
      "                                                                 \n",
      " max_pooling3d_21 (MaxPoolin  (None, 5, 32, 32, 32)    0         \n",
      " g3D)                                                            \n",
      "                                                                 \n",
      " conv3d_22 (Conv3D)          (None, 5, 32, 32, 64)     16448     \n",
      "                                                                 \n",
      " activation_22 (Activation)  (None, 5, 32, 32, 64)     0         \n",
      "                                                                 \n",
      " batch_normalization_27 (Bat  (None, 5, 32, 32, 64)    256       \n",
      " chNormalization)                                                \n",
      "                                                                 \n",
      " max_pooling3d_22 (MaxPoolin  (None, 2, 16, 16, 64)    0         \n",
      " g3D)                                                            \n",
      "                                                                 \n",
      " conv3d_23 (Conv3D)          (None, 2, 16, 16, 128)    65664     \n",
      "                                                                 \n",
      " activation_23 (Activation)  (None, 2, 16, 16, 128)    0         \n",
      "                                                                 \n",
      " batch_normalization_28 (Bat  (None, 2, 16, 16, 128)   512       \n",
      " chNormalization)                                                \n",
      "                                                                 \n",
      " max_pooling3d_23 (MaxPoolin  (None, 1, 8, 8, 128)     0         \n",
      " g3D)                                                            \n",
      "                                                                 \n",
      " flatten_5 (Flatten)         (None, 8192)              0         \n",
      "                                                                 \n",
      " dense_10 (Dense)            (None, 256)               2097408   \n",
      "                                                                 \n",
      " batch_normalization_29 (Bat  (None, 256)              1024      \n",
      " chNormalization)                                                \n",
      "                                                                 \n",
      " dropout_5 (Dropout)         (None, 256)               0         \n",
      "                                                                 \n",
      " dense_11 (Dense)            (None, 5)                 1285      \n",
      "                                                                 \n",
      "=================================================================\n",
      "Total params: 2,187,317\n",
      "Trainable params: 2,186,325\n",
      "Non-trainable params: 992\n",
      "_________________________________________________________________\n",
      "None\n"
     ]
    }
   ],
   "source": [
    "frame_count=20\n",
    "img_y =130\n",
    "img_z =130\n",
    "Input_shape = (frame_count, img_y, img_z, 3)\n",
    "model_4 = define_model(Input_shape,0.40,256)\n",
    "num_epochs = 20\n",
    "batch_size = 20\n",
    "print (model_4.summary())"
   ]
  },
  {
   "cell_type": "code",
   "execution_count": null,
   "metadata": {
    "id": "X4tT9UjeLqgi"
   },
   "outputs": [],
   "source": [
    "#explitly changing learning rate\n",
    "optimiser = optimizers.Adam(learning_rate = 0.0003)#write your optimizer\n",
    "model_4.compile(optimizer=optimiser, loss='categorical_crossentropy', metrics=['categorical_accuracy'])"
   ]
  },
  {
   "cell_type": "code",
   "execution_count": null,
   "metadata": {
    "id": "7FUjfb3JLqgm",
    "outputId": "ba2abe1a-c947-437e-a27f-0dfab2c992d6"
   },
   "outputs": [
    {
     "name": "stdout",
     "output_type": "stream",
     "text": [
      "Source path =  datasets/Project_data/train ; batch size = 20\n",
      "Epoch 1/20\n",
      "34/34 [==============================] - ETA: 0s - loss: 1.4295 - categorical_accuracy: 0.5219Source path =  datasets/Project_data/val ; batch size = 20\n",
      "\n",
      "Epoch 00001: saving model to Gesture_recog_2024-04-3011_56_25.410900/model-00001-1.42948-0.52187-3.77361-0.16000.h5\n",
      "34/34 [==============================] - 117s 3s/step - loss: 1.4295 - categorical_accuracy: 0.5219 - val_loss: 3.7736 - val_categorical_accuracy: 0.1600 - lr: 3.0000e-04\n",
      "Epoch 2/20\n",
      "34/34 [==============================] - ETA: 0s - loss: 0.8861 - categorical_accuracy: 0.6961\n",
      "Epoch 00002: saving model to Gesture_recog_2024-04-3011_56_25.410900/model-00002-0.88608-0.69608-6.40365-0.14000.h5\n",
      "34/34 [==============================] - 29s 881ms/step - loss: 0.8861 - categorical_accuracy: 0.6961 - val_loss: 6.4036 - val_categorical_accuracy: 0.1400 - lr: 3.0000e-04\n",
      "Epoch 3/20\n",
      "34/34 [==============================] - ETA: 0s - loss: 1.0965 - categorical_accuracy: 0.5882\n",
      "Epoch 00003: saving model to Gesture_recog_2024-04-3011_56_25.410900/model-00003-1.09651-0.58824-9.16160-0.19000.h5\n",
      "\n",
      "Epoch 00003: ReduceLROnPlateau reducing learning rate to 3.000000142492354e-05.\n",
      "34/34 [==============================] - 29s 863ms/step - loss: 1.0965 - categorical_accuracy: 0.5882 - val_loss: 9.1616 - val_categorical_accuracy: 0.1900 - lr: 3.0000e-04\n",
      "Epoch 4/20\n",
      "34/34 [==============================] - ETA: 0s - loss: 1.3270 - categorical_accuracy: 0.5294\n",
      "Epoch 00004: saving model to Gesture_recog_2024-04-3011_56_25.410900/model-00004-1.32695-0.52941-11.16057-0.15000.h5\n",
      "34/34 [==============================] - 33s 1s/step - loss: 1.3270 - categorical_accuracy: 0.5294 - val_loss: 11.1606 - val_categorical_accuracy: 0.1500 - lr: 3.0000e-05\n",
      "Epoch 5/20\n",
      "34/34 [==============================] - ETA: 0s - loss: 1.3049 - categorical_accuracy: 0.5000\n",
      "Epoch 00005: saving model to Gesture_recog_2024-04-3011_56_25.410900/model-00005-1.30488-0.50000-13.21997-0.16000.h5\n",
      "\n",
      "Epoch 00005: ReduceLROnPlateau reducing learning rate to 3.000000106112566e-06.\n",
      "34/34 [==============================] - 35s 1s/step - loss: 1.3049 - categorical_accuracy: 0.5000 - val_loss: 13.2200 - val_categorical_accuracy: 0.1600 - lr: 3.0000e-05\n",
      "Epoch 6/20\n",
      "34/34 [==============================] - ETA: 0s - loss: 1.3584 - categorical_accuracy: 0.5294\n",
      "Epoch 00006: saving model to Gesture_recog_2024-04-3011_56_25.410900/model-00006-1.35843-0.52941-13.77351-0.16000.h5\n",
      "34/34 [==============================] - 30s 913ms/step - loss: 1.3584 - categorical_accuracy: 0.5294 - val_loss: 13.7735 - val_categorical_accuracy: 0.1600 - lr: 3.0000e-06\n",
      "Epoch 7/20\n",
      "34/34 [==============================] - ETA: 0s - loss: 1.3638 - categorical_accuracy: 0.5490\n",
      "Epoch 00007: saving model to Gesture_recog_2024-04-3011_56_25.410900/model-00007-1.36385-0.54902-14.02061-0.14000.h5\n",
      "\n",
      "Epoch 00007: ReduceLROnPlateau reducing learning rate to 3.000000106112566e-07.\n",
      "34/34 [==============================] - 29s 875ms/step - loss: 1.3638 - categorical_accuracy: 0.5490 - val_loss: 14.0206 - val_categorical_accuracy: 0.1400 - lr: 3.0000e-06\n",
      "Epoch 8/20\n",
      "34/34 [==============================] - ETA: 0s - loss: 1.6240 - categorical_accuracy: 0.4314\n",
      "Epoch 00008: saving model to Gesture_recog_2024-04-3011_56_25.410900/model-00008-1.62403-0.43137-10.73582-0.18000.h5\n",
      "34/34 [==============================] - 30s 911ms/step - loss: 1.6240 - categorical_accuracy: 0.4314 - val_loss: 10.7358 - val_categorical_accuracy: 0.1800 - lr: 3.0000e-07\n",
      "Epoch 9/20\n",
      "34/34 [==============================] - ETA: 0s - loss: 1.1702 - categorical_accuracy: 0.5588\n",
      "Epoch 00009: saving model to Gesture_recog_2024-04-3011_56_25.410900/model-00009-1.17023-0.55882-8.62725-0.22000.h5\n",
      "\n",
      "Epoch 00009: ReduceLROnPlateau reducing learning rate to 3.000000106112566e-08.\n",
      "34/34 [==============================] - 39s 1s/step - loss: 1.1702 - categorical_accuracy: 0.5588 - val_loss: 8.6273 - val_categorical_accuracy: 0.2200 - lr: 3.0000e-07\n",
      "Epoch 10/20\n",
      "34/34 [==============================] - ETA: 0s - loss: 1.0533 - categorical_accuracy: 0.6275\n",
      "Epoch 00010: saving model to Gesture_recog_2024-04-3011_56_25.410900/model-00010-1.05335-0.62745-6.07059-0.28000.h5\n",
      "34/34 [==============================] - 30s 922ms/step - loss: 1.0533 - categorical_accuracy: 0.6275 - val_loss: 6.0706 - val_categorical_accuracy: 0.2800 - lr: 3.0000e-08\n",
      "Epoch 11/20\n",
      "34/34 [==============================] - ETA: 0s - loss: 1.1427 - categorical_accuracy: 0.6078\n",
      "Epoch 00011: saving model to Gesture_recog_2024-04-3011_56_25.410900/model-00011-1.14268-0.60784-5.16899-0.25000.h5\n",
      "\n",
      "Epoch 00011: ReduceLROnPlateau reducing learning rate to 3.000000248221113e-09.\n",
      "34/34 [==============================] - 28s 852ms/step - loss: 1.1427 - categorical_accuracy: 0.6078 - val_loss: 5.1690 - val_categorical_accuracy: 0.2500 - lr: 3.0000e-08\n",
      "Epoch 12/20\n",
      "34/34 [==============================] - ETA: 0s - loss: 1.3602 - categorical_accuracy: 0.5098\n",
      "Epoch 00012: saving model to Gesture_recog_2024-04-3011_56_25.410900/model-00012-1.36017-0.50980-4.26661-0.27000.h5\n",
      "34/34 [==============================] - 30s 895ms/step - loss: 1.3602 - categorical_accuracy: 0.5098 - val_loss: 4.2666 - val_categorical_accuracy: 0.2700 - lr: 3.0000e-09\n",
      "Epoch 13/20\n",
      "34/34 [==============================] - ETA: 0s - loss: 1.2594 - categorical_accuracy: 0.5784\n",
      "Epoch 00013: saving model to Gesture_recog_2024-04-3011_56_25.410900/model-00013-1.25940-0.57843-2.89814-0.29000.h5\n",
      "34/34 [==============================] - 29s 868ms/step - loss: 1.2594 - categorical_accuracy: 0.5784 - val_loss: 2.8981 - val_categorical_accuracy: 0.2900 - lr: 3.0000e-09\n",
      "Epoch 14/20\n",
      "34/34 [==============================] - ETA: 0s - loss: 1.3071 - categorical_accuracy: 0.5490\n",
      "Epoch 00014: saving model to Gesture_recog_2024-04-3011_56_25.410900/model-00014-1.30705-0.54902-2.59158-0.25000.h5\n",
      "34/34 [==============================] - 32s 959ms/step - loss: 1.3071 - categorical_accuracy: 0.5490 - val_loss: 2.5916 - val_categorical_accuracy: 0.2500 - lr: 3.0000e-09\n",
      "Epoch 15/20\n",
      "34/34 [==============================] - ETA: 0s - loss: 0.9795 - categorical_accuracy: 0.5882\n",
      "Epoch 00015: saving model to Gesture_recog_2024-04-3011_56_25.410900/model-00015-0.97950-0.58824-2.02334-0.32000.h5\n",
      "34/34 [==============================] - 30s 896ms/step - loss: 0.9795 - categorical_accuracy: 0.5882 - val_loss: 2.0233 - val_categorical_accuracy: 0.3200 - lr: 3.0000e-09\n",
      "Epoch 16/20\n",
      "34/34 [==============================] - ETA: 0s - loss: 1.2040 - categorical_accuracy: 0.5686\n",
      "Epoch 00016: saving model to Gesture_recog_2024-04-3011_56_25.410900/model-00016-1.20399-0.56863-1.81828-0.37000.h5\n",
      "34/34 [==============================] - 32s 981ms/step - loss: 1.2040 - categorical_accuracy: 0.5686 - val_loss: 1.8183 - val_categorical_accuracy: 0.3700 - lr: 3.0000e-09\n",
      "Epoch 17/20\n",
      "34/34 [==============================] - ETA: 0s - loss: 1.2782 - categorical_accuracy: 0.5490\n",
      "Epoch 00017: saving model to Gesture_recog_2024-04-3011_56_25.410900/model-00017-1.27825-0.54902-1.56756-0.47000.h5\n",
      "34/34 [==============================] - 33s 995ms/step - loss: 1.2782 - categorical_accuracy: 0.5490 - val_loss: 1.5676 - val_categorical_accuracy: 0.4700 - lr: 3.0000e-09\n",
      "Epoch 18/20\n",
      "34/34 [==============================] - ETA: 0s - loss: 1.3991 - categorical_accuracy: 0.5294\n",
      "Epoch 00018: saving model to Gesture_recog_2024-04-3011_56_25.410900/model-00018-1.39906-0.52941-1.28235-0.58000.h5\n",
      "34/34 [==============================] - 32s 968ms/step - loss: 1.3991 - categorical_accuracy: 0.5294 - val_loss: 1.2823 - val_categorical_accuracy: 0.5800 - lr: 3.0000e-09\n",
      "Epoch 19/20\n",
      "34/34 [==============================] - ETA: 0s - loss: 1.1560 - categorical_accuracy: 0.5882\n",
      "Epoch 00019: saving model to Gesture_recog_2024-04-3011_56_25.410900/model-00019-1.15604-0.58824-1.12589-0.61000.h5\n",
      "34/34 [==============================] - 30s 922ms/step - loss: 1.1560 - categorical_accuracy: 0.5882 - val_loss: 1.1259 - val_categorical_accuracy: 0.6100 - lr: 3.0000e-09\n",
      "Epoch 20/20\n",
      "34/34 [==============================] - ETA: 0s - loss: 1.0167 - categorical_accuracy: 0.6373\n",
      "Epoch 00020: saving model to Gesture_recog_2024-04-3011_56_25.410900/model-00020-1.01671-0.63725-1.17222-0.58000.h5\n",
      "34/34 [==============================] - 30s 923ms/step - loss: 1.0167 - categorical_accuracy: 0.6373 - val_loss: 1.1722 - val_categorical_accuracy: 0.5800 - lr: 3.0000e-09\n"
     ]
    }
   ],
   "source": [
    "history4 = model_train_fit(model_4,train_path,train_doc,val_path, val_doc,batch_size,\n",
    "                      frame_count,img_y,img_z,num_train_sequences,num_val_sequences,num_epochs)"
   ]
  },
  {
   "cell_type": "code",
   "execution_count": null,
   "metadata": {
    "id": "5V2da6VVLqgm",
    "outputId": "eb84aff2-aeea-48e4-c114-01eb7d398151"
   },
   "outputs": [
    {
     "data": {
      "image/png": "[encoded data removed]",
      "text/plain": [
       "<Figure size 576x576 with 2 Axes>"
      ]
     },
     "metadata": {
      "needs_background": "light"
     },
     "output_type": "display_data"
    }
   ],
   "source": [
    "plot_model(history4,num_epochs)"
   ]
  },
  {
   "cell_type": "markdown",
   "metadata": {},
   "source": [
    "Observation:Seen improvement but sill the accuracy can improve with good fit. Next trying ConvLSTM to see if we get better results"
   ]
  },
  {
   "cell_type": "markdown",
   "metadata": {
    "id": "flXNmiQwaAnj"
   },
   "source": [
    "### Conv2D RNN + LSTM Model_5\n",
    "\n",
    "1.   List item\n"
   ]
  },
  {
   "cell_type": "code",
   "execution_count": null,
   "metadata": {
    "id": "imKvE8NzaAnj"
   },
   "outputs": [],
   "source": [
    "\n",
    "def define_conv2d_model(Input_shape,drop_out=0.25,neurons=128):\n",
    "    model = Sequential()\n",
    "    #1st Layer\n",
    "    model.add(TimeDistributed(Conv2D(16, (3, 3) , padding='same', activation='relu'),\n",
    "                              input_shape=Input_shape))\n",
    "    model.add(TimeDistributed(BatchNormalization()))\n",
    "    model.add(TimeDistributed(MaxPooling2D((2, 2))))\n",
    "\n",
    "    #2nd Layer\n",
    "    model.add(TimeDistributed(Conv2D(32, (3, 3) , padding='same', activation='relu')))\n",
    "    model.add(TimeDistributed(BatchNormalization()))\n",
    "    model.add(TimeDistributed(MaxPooling2D((2, 2))))\n",
    "\n",
    "    #3rd Layer\n",
    "    model.add(TimeDistributed(Conv2D(64, (3, 3) , padding='same', activation='relu')))\n",
    "    model.add(TimeDistributed(BatchNormalization()))\n",
    "    model.add(TimeDistributed(MaxPooling2D((2, 2))))\n",
    "\n",
    "    #4th Layer\n",
    "    model.add(TimeDistributed(Conv2D(128, (3, 3) , padding='same', activation='relu')))\n",
    "    model.add(TimeDistributed(BatchNormalization()))\n",
    "    model.add(TimeDistributed(MaxPooling2D((2, 2))))\n",
    "\n",
    "    #5th Layer\n",
    "    model.add(TimeDistributed(Conv2D(256, (3, 3) , padding='same', activation='relu')))\n",
    "    model.add(TimeDistributed(BatchNormalization()))\n",
    "    model.add(TimeDistributed(MaxPooling2D((2, 2))))\n",
    "\n",
    "    #Flatten layer\n",
    "    model.add(TimeDistributed(Flatten()))\n",
    "\n",
    "    #LSTM\n",
    "    model.add(LSTM(neurons))\n",
    "    model.add(Dropout(drop_out))\n",
    "\n",
    "    model.add(Dense(neurons, activation='relu'))\n",
    "    model.add(Dropout(drop_out))\n",
    "\n",
    "    model.add(Dense(5, activation='softmax'))\n",
    "\n",
    "    optimiser = optimizers.Adam()#write your optimizer\n",
    "    model.compile(optimizer=optimiser, loss='categorical_crossentropy', metrics=['categorical_accuracy'])\n",
    "\n",
    "    return model"
   ]
  },
  {
   "cell_type": "code",
   "execution_count": null,
   "metadata": {
    "colab": {
     "base_uri": "https://localhost:8080/"
    },
    "id": "9mn8gNycaAnj",
    "outputId": "4bea5027-154c-4b97-dee7-66f60ac42f13"
   },
   "outputs": [
    {
     "name": "stdout",
     "output_type": "stream",
     "text": [
      "Model: \"sequential_10\"\n",
      "_________________________________________________________________\n",
      " Layer (type)                Output Shape              Param #   \n",
      "=================================================================\n",
      " time_distributed_132 (Time  (None, 20, 120, 120, 16   448       \n",
      " Distributed)                )                                   \n",
      "                                                                 \n",
      " time_distributed_133 (Time  (None, 20, 120, 120, 16   64        \n",
      " Distributed)                )                                   \n",
      "                                                                 \n",
      " time_distributed_134 (Time  (None, 20, 60, 60, 16)    0         \n",
      " Distributed)                                                    \n",
      "                                                                 \n",
      " time_distributed_135 (Time  (None, 20, 60, 60, 32)    4640      \n",
      " Distributed)                                                    \n",
      "                                                                 \n",
      " time_distributed_136 (Time  (None, 20, 60, 60, 32)    128       \n",
      " Distributed)                                                    \n",
      "                                                                 \n",
      " time_distributed_137 (Time  (None, 20, 30, 30, 32)    0         \n",
      " Distributed)                                                    \n",
      "                                                                 \n",
      " time_distributed_138 (Time  (None, 20, 30, 30, 64)    18496     \n",
      " Distributed)                                                    \n",
      "                                                                 \n",
      " time_distributed_139 (Time  (None, 20, 30, 30, 64)    256       \n",
      " Distributed)                                                    \n",
      "                                                                 \n",
      " time_distributed_140 (Time  (None, 20, 15, 15, 64)    0         \n",
      " Distributed)                                                    \n",
      "                                                                 \n",
      " time_distributed_141 (Time  (None, 20, 15, 15, 128)   73856     \n",
      " Distributed)                                                    \n",
      "                                                                 \n",
      " time_distributed_142 (Time  (None, 20, 15, 15, 128)   512       \n",
      " Distributed)                                                    \n",
      "                                                                 \n",
      " time_distributed_143 (Time  (None, 20, 7, 7, 128)     0         \n",
      " Distributed)                                                    \n",
      "                                                                 \n",
      " time_distributed_144 (Time  (None, 20, 7, 7, 256)     295168    \n",
      " Distributed)                                                    \n",
      "                                                                 \n",
      " time_distributed_145 (Time  (None, 20, 7, 7, 256)     1024      \n",
      " Distributed)                                                    \n",
      "                                                                 \n",
      " time_distributed_146 (Time  (None, 20, 3, 3, 256)     0         \n",
      " Distributed)                                                    \n",
      "                                                                 \n",
      " time_distributed_147 (Time  (None, 20, 2304)          0         \n",
      " Distributed)                                                    \n",
      "                                                                 \n",
      " lstm_2 (LSTM)               (None, 128)               1245696   \n",
      "                                                                 \n",
      " dropout_19 (Dropout)        (None, 128)               0         \n",
      "                                                                 \n",
      " dense_20 (Dense)            (None, 128)               16512     \n",
      "                                                                 \n",
      " dropout_20 (Dropout)        (None, 128)               0         \n",
      "                                                                 \n",
      " dense_21 (Dense)            (None, 5)                 645       \n",
      "                                                                 \n",
      "=================================================================\n",
      "Total params: 1657445 (6.32 MB)\n",
      "Trainable params: 1656453 (6.32 MB)\n",
      "Non-trainable params: 992 (3.88 KB)\n",
      "_________________________________________________________________\n",
      "None\n"
     ]
    }
   ],
   "source": [
    "frame_count=20\n",
    "batch_size= 20\n",
    "img_y =120\n",
    "img_z =120\n",
    "num_epochs = 15\n",
    "Input_shape = (frame_count, img_y, img_z, 3)\n",
    "convd2_model_1 = define_conv2d_model(Input_shape)\n",
    "print (convd2_model_1.summary())"
   ]
  },
  {
   "cell_type": "code",
   "execution_count": null,
   "metadata": {
    "colab": {
     "base_uri": "https://localhost:8080/"
    },
    "id": "Ct3e4Mk4aAnj",
    "outputId": "446f5e75-e6e6-41b0-e19c-0235a3767073"
   },
   "outputs": [
    {
     "name": "stdout",
     "output_type": "stream",
     "text": [
      "Source path =  /content/Project_data/train ; batch size = 20\n",
      "Epoch 1/15\n",
      "33/34 [============================>.] - ETA: 1s - loss: 1.3842 - categorical_accuracy: 0.4091Source path =  /content/Project_data/val ; batch size = 20\n",
      "\n",
      "Epoch 1: saving model to Gesture_recog_2024-05-0106_34_30.340110/model-00001-1.38267-0.41176-1.80851-0.24000.keras\n",
      "34/34 [==============================] - 60s 2s/step - loss: 1.3827 - categorical_accuracy: 0.4118 - val_loss: 1.8085 - val_categorical_accuracy: 0.2400 - lr: 0.0010\n",
      "Epoch 2/15\n",
      "34/34 [==============================] - ETA: 0s - loss: 1.0696 - categorical_accuracy: 0.5460\n",
      "Epoch 2: saving model to Gesture_recog_2024-05-0106_34_30.340110/model-00002-1.06961-0.54600-2.56983-0.21000.keras\n",
      "34/34 [==============================] - 48s 1s/step - loss: 1.0696 - categorical_accuracy: 0.5460 - val_loss: 2.5698 - val_categorical_accuracy: 0.2100 - lr: 0.0010\n",
      "Epoch 3/15\n",
      "33/34 [============================>.] - ETA: 1s - loss: 0.9914 - categorical_accuracy: 0.6167\n",
      "Epoch 3: saving model to Gesture_recog_2024-05-0106_34_30.340110/model-00003-0.99355-0.61388-2.90584-0.23000.keras\n",
      "34/34 [==============================] - 55s 2s/step - loss: 0.9935 - categorical_accuracy: 0.6139 - val_loss: 2.9058 - val_categorical_accuracy: 0.2300 - lr: 0.0010\n",
      "Epoch 4/15\n",
      "34/34 [==============================] - ETA: 0s - loss: 0.8192 - categorical_accuracy: 0.6983\n",
      "Epoch 4: saving model to Gesture_recog_2024-05-0106_34_30.340110/model-00004-0.81922-0.69834-2.41024-0.20000.keras\n",
      "\n",
      "Epoch 4: ReduceLROnPlateau reducing learning rate to 0.00020000000949949026.\n",
      "34/34 [==============================] - 41s 1s/step - loss: 0.8192 - categorical_accuracy: 0.6983 - val_loss: 2.4102 - val_categorical_accuracy: 0.2000 - lr: 0.0010\n",
      "Epoch 5/15\n",
      "34/34 [==============================] - ETA: 0s - loss: 0.7145 - categorical_accuracy: 0.7330\n",
      "Epoch 5: saving model to Gesture_recog_2024-05-0106_34_30.340110/model-00005-0.71453-0.73303-2.73603-0.20000.keras\n",
      "34/34 [==============================] - 46s 1s/step - loss: 0.7145 - categorical_accuracy: 0.7330 - val_loss: 2.7360 - val_categorical_accuracy: 0.2000 - lr: 2.0000e-04\n",
      "Epoch 6/15\n",
      "34/34 [==============================] - ETA: 0s - loss: 0.5754 - categorical_accuracy: 0.7873\n",
      "Epoch 6: saving model to Gesture_recog_2024-05-0106_34_30.340110/model-00006-0.57542-0.78733-2.46319-0.21000.keras\n",
      "34/34 [==============================] - 45s 1s/step - loss: 0.5754 - categorical_accuracy: 0.7873 - val_loss: 2.4632 - val_categorical_accuracy: 0.2100 - lr: 2.0000e-04\n",
      "Epoch 7/15\n",
      "34/34 [==============================] - ETA: 0s - loss: 0.5340 - categorical_accuracy: 0.8054\n",
      "Epoch 7: saving model to Gesture_recog_2024-05-0106_34_30.340110/model-00007-0.53403-0.80543-2.73246-0.22000.keras\n",
      "\n",
      "Epoch 7: ReduceLROnPlateau reducing learning rate to 4.0000001899898055e-05.\n",
      "34/34 [==============================] - 43s 1s/step - loss: 0.5340 - categorical_accuracy: 0.8054 - val_loss: 2.7325 - val_categorical_accuracy: 0.2200 - lr: 2.0000e-04\n",
      "Epoch 8/15\n",
      "34/34 [==============================] - ETA: 0s - loss: 0.4197 - categorical_accuracy: 0.8658\n",
      "Epoch 8: saving model to Gesture_recog_2024-05-0106_34_30.340110/model-00008-0.41965-0.86576-2.56654-0.26000.keras\n",
      "34/34 [==============================] - 48s 1s/step - loss: 0.4197 - categorical_accuracy: 0.8658 - val_loss: 2.5665 - val_categorical_accuracy: 0.2600 - lr: 4.0000e-05\n",
      "Epoch 9/15\n",
      "34/34 [==============================] - ETA: 0s - loss: 0.4279 - categorical_accuracy: 0.8582\n",
      "Epoch 9: saving model to Gesture_recog_2024-05-0106_34_30.340110/model-00009-0.42787-0.85822-2.63931-0.22000.keras\n",
      "34/34 [==============================] - 44s 1s/step - loss: 0.4279 - categorical_accuracy: 0.8582 - val_loss: 2.6393 - val_categorical_accuracy: 0.2200 - lr: 4.0000e-05\n",
      "Epoch 10/15\n",
      "34/34 [==============================] - ETA: 0s - loss: 0.3754 - categorical_accuracy: 0.8839\n",
      "Epoch 10: saving model to Gesture_recog_2024-05-0106_34_30.340110/model-00010-0.37544-0.88386-2.56808-0.21000.keras\n",
      "\n",
      "Epoch 10: ReduceLROnPlateau reducing learning rate to 8.000000525498762e-06.\n",
      "34/34 [==============================] - 44s 1s/step - loss: 0.3754 - categorical_accuracy: 0.8839 - val_loss: 2.5681 - val_categorical_accuracy: 0.2100 - lr: 4.0000e-05\n",
      "Epoch 11/15\n",
      "34/34 [==============================] - ETA: 0s - loss: 0.3861 - categorical_accuracy: 0.8808\n",
      "Epoch 11: saving model to Gesture_recog_2024-05-0106_34_30.340110/model-00011-0.38606-0.88084-2.34602-0.25000.keras\n",
      "34/34 [==============================] - 52s 2s/step - loss: 0.3861 - categorical_accuracy: 0.8808 - val_loss: 2.3460 - val_categorical_accuracy: 0.2500 - lr: 8.0000e-06\n",
      "Epoch 12/15\n",
      "34/34 [==============================] - ETA: 0s - loss: 0.3798 - categorical_accuracy: 0.8929\n",
      "Epoch 12: saving model to Gesture_recog_2024-05-0106_34_30.340110/model-00012-0.37984-0.89291-2.09445-0.29000.keras\n",
      "34/34 [==============================] - 43s 1s/step - loss: 0.3798 - categorical_accuracy: 0.8929 - val_loss: 2.0945 - val_categorical_accuracy: 0.2900 - lr: 8.0000e-06\n",
      "Epoch 13/15\n",
      "34/34 [==============================] - ETA: 0s - loss: 0.3787 - categorical_accuracy: 0.8793\n",
      "Epoch 13: saving model to Gesture_recog_2024-05-0106_34_30.340110/model-00013-0.37873-0.87934-2.17411-0.26000.keras\n",
      "\n",
      "Epoch 13: ReduceLROnPlateau reducing learning rate to 1.6000001778593287e-06.\n",
      "34/34 [==============================] - 53s 2s/step - loss: 0.3787 - categorical_accuracy: 0.8793 - val_loss: 2.1741 - val_categorical_accuracy: 0.2600 - lr: 8.0000e-06\n",
      "Epoch 14/15\n",
      "34/34 [==============================] - ETA: 0s - loss: 0.3682 - categorical_accuracy: 0.8884\n",
      "Epoch 14: saving model to Gesture_recog_2024-05-0106_34_30.340110/model-00014-0.36822-0.88839-1.42749-0.45000.keras\n",
      "34/34 [==============================] - 42s 1s/step - loss: 0.3682 - categorical_accuracy: 0.8884 - val_loss: 1.4275 - val_categorical_accuracy: 0.4500 - lr: 1.6000e-06\n",
      "Epoch 15/15\n",
      "34/34 [==============================] - ETA: 0s - loss: 0.3742 - categorical_accuracy: 0.8793\n",
      "Epoch 15: saving model to Gesture_recog_2024-05-0106_34_30.340110/model-00015-0.37417-0.87934-1.40769-0.50000.keras\n",
      "34/34 [==============================] - 44s 1s/step - loss: 0.3742 - categorical_accuracy: 0.8793 - val_loss: 1.4077 - val_categorical_accuracy: 0.5000 - lr: 1.6000e-06\n"
     ]
    }
   ],
   "source": [
    "history_conv2d_1 = model_train_fit(convd2_model_1,train_path,train_doc,val_path, val_doc,batch_size,\n",
    "                      frame_count,img_y,img_z,num_train_sequences,num_val_sequences,num_epochs)"
   ]
  },
  {
   "cell_type": "code",
   "execution_count": null,
   "metadata": {
    "colab": {
     "base_uri": "https://localhost:8080/",
     "height": 699
    },
    "id": "YLxwV5tcZDlG",
    "outputId": "19eeb534-0eb2-4a43-f427-a406ca2349f3"
   },
   "outputs": [
    {
     "data": {
      "image/png": "[encoded data removed]",
      "text/plain": [
       "<Figure size 800x800 with 2 Axes>"
      ]
     },
     "metadata": {},
     "output_type": "display_data"
    }
   ],
   "source": [
    "plot_model(history_conv2d_1,15)"
   ]
  },
  {
   "cell_type": "markdown",
   "metadata": {},
   "source": [
    "Observation: Model is overfitting, next trying increase with the increase in image resolution and number of epochs"
   ]
  },
  {
   "cell_type": "markdown",
   "metadata": {
    "id": "-beh5CowaAnj"
   },
   "source": [
    "### Conv2D RNN + LSTM Model_6\n",
    "With more number of epochs - 25"
   ]
  },
  {
   "cell_type": "code",
   "execution_count": null,
   "metadata": {
    "colab": {
     "base_uri": "https://localhost:8080/"
    },
    "id": "A6u5WRH1aAnj",
    "outputId": "60b0b986-bd27-4fd1-9053-2019d95d6b41"
   },
   "outputs": [
    {
     "name": "stdout",
     "output_type": "stream",
     "text": [
      "Model: \"sequential_11\"\n",
      "_________________________________________________________________\n",
      " Layer (type)                Output Shape              Param #   \n",
      "=================================================================\n",
      " time_distributed_148 (Time  (None, 20, 120, 120, 16   448       \n",
      " Distributed)                )                                   \n",
      "                                                                 \n",
      " time_distributed_149 (Time  (None, 20, 120, 120, 16   64        \n",
      " Distributed)                )                                   \n",
      "                                                                 \n",
      " time_distributed_150 (Time  (None, 20, 60, 60, 16)    0         \n",
      " Distributed)                                                    \n",
      "                                                                 \n",
      " time_distributed_151 (Time  (None, 20, 60, 60, 32)    4640      \n",
      " Distributed)                                                    \n",
      "                                                                 \n",
      " time_distributed_152 (Time  (None, 20, 60, 60, 32)    128       \n",
      " Distributed)                                                    \n",
      "                                                                 \n",
      " time_distributed_153 (Time  (None, 20, 30, 30, 32)    0         \n",
      " Distributed)                                                    \n",
      "                                                                 \n",
      " time_distributed_154 (Time  (None, 20, 30, 30, 64)    18496     \n",
      " Distributed)                                                    \n",
      "                                                                 \n",
      " time_distributed_155 (Time  (None, 20, 30, 30, 64)    256       \n",
      " Distributed)                                                    \n",
      "                                                                 \n",
      " time_distributed_156 (Time  (None, 20, 15, 15, 64)    0         \n",
      " Distributed)                                                    \n",
      "                                                                 \n",
      " time_distributed_157 (Time  (None, 20, 15, 15, 128)   73856     \n",
      " Distributed)                                                    \n",
      "                                                                 \n",
      " time_distributed_158 (Time  (None, 20, 15, 15, 128)   512       \n",
      " Distributed)                                                    \n",
      "                                                                 \n",
      " time_distributed_159 (Time  (None, 20, 7, 7, 128)     0         \n",
      " Distributed)                                                    \n",
      "                                                                 \n",
      " time_distributed_160 (Time  (None, 20, 7, 7, 256)     295168    \n",
      " Distributed)                                                    \n",
      "                                                                 \n",
      " time_distributed_161 (Time  (None, 20, 7, 7, 256)     1024      \n",
      " Distributed)                                                    \n",
      "                                                                 \n",
      " time_distributed_162 (Time  (None, 20, 3, 3, 256)     0         \n",
      " Distributed)                                                    \n",
      "                                                                 \n",
      " time_distributed_163 (Time  (None, 20, 2304)          0         \n",
      " Distributed)                                                    \n",
      "                                                                 \n",
      " lstm_3 (LSTM)               (None, 128)               1245696   \n",
      "                                                                 \n",
      " dropout_21 (Dropout)        (None, 128)               0         \n",
      "                                                                 \n",
      " dense_22 (Dense)            (None, 128)               16512     \n",
      "                                                                 \n",
      " dropout_22 (Dropout)        (None, 128)               0         \n",
      "                                                                 \n",
      " dense_23 (Dense)            (None, 5)                 645       \n",
      "                                                                 \n",
      "=================================================================\n",
      "Total params: 1657445 (6.32 MB)\n",
      "Trainable params: 1656453 (6.32 MB)\n",
      "Non-trainable params: 992 (3.88 KB)\n",
      "_________________________________________________________________\n",
      "None\n"
     ]
    }
   ],
   "source": [
    "#Finding optimal frame_count and hyper parameters\n",
    "frame_count=20\n",
    "batch_size=20\n",
    "img_y =120\n",
    "img_z =120\n",
    "num_epochs = 25\n",
    "Input_shape = (frame_count, img_y, img_z, 3)\n",
    "convd2_model_2 = define_conv2d_model(Input_shape)\n",
    "print (convd2_model_2.summary())"
   ]
  },
  {
   "cell_type": "code",
   "execution_count": null,
   "metadata": {
    "colab": {
     "base_uri": "https://localhost:8080/"
    },
    "id": "KZ5l8JaXaAnj",
    "outputId": "b283820c-449f-4c4b-a728-defd0ef5f21a"
   },
   "outputs": [
    {
     "name": "stdout",
     "output_type": "stream",
     "text": [
      "Source path =  /content/Project_data/train ; batch size = 20\n",
      "Epoch 1/25\n",
      "33/34 [============================>.] - ETA: 1s - loss: 1.4082 - categorical_accuracy: 0.3939Source path =  /content/Project_data/val ; batch size = 20\n",
      "\n",
      "Epoch 1: saving model to Gesture_recog_2024-05-0106_34_30.340110/model-00001-1.40538-0.39517-1.78517-0.21000.keras\n",
      "34/34 [==============================] - 56s 1s/step - loss: 1.4054 - categorical_accuracy: 0.3952 - val_loss: 1.7852 - val_categorical_accuracy: 0.2100 - lr: 0.0010\n",
      "Epoch 2/25\n",
      "34/34 [==============================] - ETA: 0s - loss: 1.1565 - categorical_accuracy: 0.5415\n",
      "Epoch 2: saving model to Gesture_recog_2024-05-0106_34_30.340110/model-00002-1.15646-0.54148-2.42522-0.22000.keras\n",
      "34/34 [==============================] - 45s 1s/step - loss: 1.1565 - categorical_accuracy: 0.5415 - val_loss: 2.4252 - val_categorical_accuracy: 0.2200 - lr: 0.0010\n",
      "Epoch 3/25\n",
      "33/34 [============================>.] - ETA: 1s - loss: 1.0147 - categorical_accuracy: 0.6045\n",
      "Epoch 3: saving model to Gesture_recog_2024-05-0106_34_30.340110/model-00003-1.01528-0.60332-2.56526-0.20000.keras\n",
      "34/34 [==============================] - 47s 1s/step - loss: 1.0153 - categorical_accuracy: 0.6033 - val_loss: 2.5653 - val_categorical_accuracy: 0.2000 - lr: 0.0010\n",
      "Epoch 4/25\n",
      "33/34 [============================>.] - ETA: 1s - loss: 0.8941 - categorical_accuracy: 0.6470\n",
      "Epoch 4: saving model to Gesture_recog_2024-05-0106_34_30.340110/model-00004-0.89301-0.64706-2.66383-0.16000.keras\n",
      "\n",
      "Epoch 4: ReduceLROnPlateau reducing learning rate to 0.00020000000949949026.\n",
      "34/34 [==============================] - 47s 1s/step - loss: 0.8930 - categorical_accuracy: 0.6471 - val_loss: 2.6638 - val_categorical_accuracy: 0.1600 - lr: 0.0010\n",
      "Epoch 5/25\n",
      "33/34 [============================>.] - ETA: 1s - loss: 0.7953 - categorical_accuracy: 0.7076\n",
      "Epoch 5: saving model to Gesture_recog_2024-05-0106_34_30.340110/model-00005-0.79854-0.70739-2.33555-0.21000.keras\n",
      "34/34 [==============================] - 46s 1s/step - loss: 0.7985 - categorical_accuracy: 0.7074 - val_loss: 2.3355 - val_categorical_accuracy: 0.2100 - lr: 2.0000e-04\n",
      "Epoch 6/25\n",
      "33/34 [============================>.] - ETA: 1s - loss: 0.6659 - categorical_accuracy: 0.7697\n",
      "Epoch 6: saving model to Gesture_recog_2024-05-0106_34_30.340110/model-00006-0.67363-0.76772-2.27779-0.22000.keras\n",
      "34/34 [==============================] - 46s 1s/step - loss: 0.6736 - categorical_accuracy: 0.7677 - val_loss: 2.2778 - val_categorical_accuracy: 0.2200 - lr: 2.0000e-04\n",
      "Epoch 7/25\n",
      "33/34 [============================>.] - ETA: 1s - loss: 0.5846 - categorical_accuracy: 0.7894\n",
      "Epoch 7: saving model to Gesture_recog_2024-05-0106_34_30.340110/model-00007-0.58695-0.78884-2.00278-0.27000.keras\n",
      "\n",
      "Epoch 7: ReduceLROnPlateau reducing learning rate to 4.0000001899898055e-05.\n",
      "34/34 [==============================] - 47s 1s/step - loss: 0.5870 - categorical_accuracy: 0.7888 - val_loss: 2.0028 - val_categorical_accuracy: 0.2700 - lr: 2.0000e-04\n",
      "Epoch 8/25\n",
      "33/34 [============================>.] - ETA: 1s - loss: 0.5311 - categorical_accuracy: 0.8348\n",
      "Epoch 8: saving model to Gesture_recog_2024-05-0106_34_30.340110/model-00008-0.53078-0.83560-1.85276-0.31000.keras\n",
      "34/34 [==============================] - 46s 1s/step - loss: 0.5308 - categorical_accuracy: 0.8356 - val_loss: 1.8528 - val_categorical_accuracy: 0.3100 - lr: 4.0000e-05\n",
      "Epoch 9/25\n",
      "34/34 [==============================] - ETA: 0s - loss: 0.5099 - categorical_accuracy: 0.8326\n",
      "Epoch 9: saving model to Gesture_recog_2024-05-0106_34_30.340110/model-00009-0.50992-0.83258-2.12777-0.27000.keras\n",
      "34/34 [==============================] - 48s 1s/step - loss: 0.5099 - categorical_accuracy: 0.8326 - val_loss: 2.1278 - val_categorical_accuracy: 0.2700 - lr: 4.0000e-05\n",
      "Epoch 10/25\n",
      "34/34 [==============================] - ETA: 0s - loss: 0.4833 - categorical_accuracy: 0.8431\n",
      "Epoch 10: saving model to Gesture_recog_2024-05-0106_34_30.340110/model-00010-0.48331-0.84314-1.81496-0.43000.keras\n",
      "\n",
      "Epoch 10: ReduceLROnPlateau reducing learning rate to 8.000000525498762e-06.\n",
      "34/34 [==============================] - 46s 1s/step - loss: 0.4833 - categorical_accuracy: 0.8431 - val_loss: 1.8150 - val_categorical_accuracy: 0.4300 - lr: 4.0000e-05\n",
      "Epoch 11/25\n",
      "34/34 [==============================] - ETA: 0s - loss: 0.4510 - categorical_accuracy: 0.8507\n",
      "Epoch 11: saving model to Gesture_recog_2024-05-0106_34_30.340110/model-00011-0.45103-0.85068-1.87762-0.39000.keras\n",
      "34/34 [==============================] - 46s 1s/step - loss: 0.4510 - categorical_accuracy: 0.8507 - val_loss: 1.8776 - val_categorical_accuracy: 0.3900 - lr: 8.0000e-06\n",
      "Epoch 12/25\n",
      "34/34 [==============================] - ETA: 0s - loss: 0.4532 - categorical_accuracy: 0.8507\n",
      "Epoch 12: saving model to Gesture_recog_2024-05-0106_34_30.340110/model-00012-0.45321-0.85068-1.88866-0.43000.keras\n",
      "34/34 [==============================] - 47s 1s/step - loss: 0.4532 - categorical_accuracy: 0.8507 - val_loss: 1.8887 - val_categorical_accuracy: 0.4300 - lr: 8.0000e-06\n",
      "Epoch 13/25\n",
      "34/34 [==============================] - ETA: 0s - loss: 0.4631 - categorical_accuracy: 0.8477\n",
      "Epoch 13: saving model to Gesture_recog_2024-05-0106_34_30.340110/model-00013-0.46311-0.84766-1.76203-0.40000.keras\n",
      "34/34 [==============================] - 47s 1s/step - loss: 0.4631 - categorical_accuracy: 0.8477 - val_loss: 1.7620 - val_categorical_accuracy: 0.4000 - lr: 8.0000e-06\n",
      "Epoch 14/25\n",
      "33/34 [============================>.] - ETA: 1s - loss: 0.4591 - categorical_accuracy: 0.8439\n",
      "Epoch 14: saving model to Gesture_recog_2024-05-0106_34_30.340110/model-00014-0.45901-0.84465-1.61369-0.42000.keras\n",
      "34/34 [==============================] - 47s 1s/step - loss: 0.4590 - categorical_accuracy: 0.8446 - val_loss: 1.6137 - val_categorical_accuracy: 0.4200 - lr: 8.0000e-06\n",
      "Epoch 15/25\n",
      "33/34 [============================>.] - ETA: 1s - loss: 0.4358 - categorical_accuracy: 0.8591\n",
      "Epoch 15: saving model to Gesture_recog_2024-05-0106_34_30.340110/model-00015-0.43450-0.85973-1.31684-0.49000.keras\n",
      "34/34 [==============================] - 47s 1s/step - loss: 0.4345 - categorical_accuracy: 0.8597 - val_loss: 1.3168 - val_categorical_accuracy: 0.4900 - lr: 8.0000e-06\n",
      "Epoch 16/25\n",
      "34/34 [==============================] - ETA: 0s - loss: 0.4370 - categorical_accuracy: 0.8643\n",
      "Epoch 16: saving model to Gesture_recog_2024-05-0106_34_30.340110/model-00016-0.43698-0.86425-1.14081-0.54000.keras\n",
      "34/34 [==============================] - 47s 1s/step - loss: 0.4370 - categorical_accuracy: 0.8643 - val_loss: 1.1408 - val_categorical_accuracy: 0.5400 - lr: 8.0000e-06\n",
      "Epoch 17/25\n",
      "34/34 [==============================] - ETA: 0s - loss: 0.4248 - categorical_accuracy: 0.8703\n",
      "Epoch 17: saving model to Gesture_recog_2024-05-0106_34_30.340110/model-00017-0.42485-0.87029-1.06638-0.52000.keras\n",
      "34/34 [==============================] - 47s 1s/step - loss: 0.4248 - categorical_accuracy: 0.8703 - val_loss: 1.0664 - val_categorical_accuracy: 0.5200 - lr: 8.0000e-06\n",
      "Epoch 18/25\n",
      "34/34 [==============================] - ETA: 0s - loss: 0.4136 - categorical_accuracy: 0.8627\n",
      "Epoch 18: saving model to Gesture_recog_2024-05-0106_34_30.340110/model-00018-0.41355-0.86275-1.00969-0.61000.keras\n",
      "34/34 [==============================] - 48s 1s/step - loss: 0.4136 - categorical_accuracy: 0.8627 - val_loss: 1.0097 - val_categorical_accuracy: 0.6100 - lr: 8.0000e-06\n",
      "Epoch 19/25\n",
      "34/34 [==============================] - ETA: 0s - loss: 0.4087 - categorical_accuracy: 0.8854\n",
      "Epoch 19: saving model to Gesture_recog_2024-05-0106_34_30.340110/model-00019-0.40872-0.88537-0.72614-0.75000.keras\n",
      "34/34 [==============================] - 47s 1s/step - loss: 0.4087 - categorical_accuracy: 0.8854 - val_loss: 0.7261 - val_categorical_accuracy: 0.7500 - lr: 8.0000e-06\n",
      "Epoch 20/25\n",
      "34/34 [==============================] - ETA: 0s - loss: 0.4588 - categorical_accuracy: 0.8597\n",
      "Epoch 20: saving model to Gesture_recog_2024-05-0106_34_30.340110/model-00020-0.45877-0.85973-0.88637-0.67000.keras\n",
      "34/34 [==============================] - 46s 1s/step - loss: 0.4588 - categorical_accuracy: 0.8597 - val_loss: 0.8864 - val_categorical_accuracy: 0.6700 - lr: 8.0000e-06\n",
      "Epoch 21/25\n",
      "33/34 [============================>.] - ETA: 1s - loss: 0.4177 - categorical_accuracy: 0.8561\n",
      "Epoch 21: saving model to Gesture_recog_2024-05-0106_34_30.340110/model-00021-0.42264-0.85370-0.73386-0.72000.keras\n",
      "34/34 [==============================] - 47s 1s/step - loss: 0.4226 - categorical_accuracy: 0.8537 - val_loss: 0.7339 - val_categorical_accuracy: 0.7200 - lr: 8.0000e-06\n",
      "Epoch 22/25\n",
      "34/34 [==============================] - ETA: 0s - loss: 0.4093 - categorical_accuracy: 0.8899\n",
      "Epoch 22: saving model to Gesture_recog_2024-05-0106_34_30.340110/model-00022-0.40930-0.88989-0.60545-0.77000.keras\n",
      "34/34 [==============================] - 57s 2s/step - loss: 0.4093 - categorical_accuracy: 0.8899 - val_loss: 0.6055 - val_categorical_accuracy: 0.7700 - lr: 8.0000e-06\n",
      "Epoch 23/25\n",
      "33/34 [============================>.] - ETA: 1s - loss: 0.4050 - categorical_accuracy: 0.8803\n",
      "Epoch 23: saving model to Gesture_recog_2024-05-0106_34_30.340110/model-00023-0.40467-0.88084-0.76201-0.68000.keras\n",
      "34/34 [==============================] - 46s 1s/step - loss: 0.4047 - categorical_accuracy: 0.8808 - val_loss: 0.7620 - val_categorical_accuracy: 0.6800 - lr: 8.0000e-06\n",
      "Epoch 24/25\n",
      "34/34 [==============================] - ETA: 0s - loss: 0.4225 - categorical_accuracy: 0.8673\n",
      "Epoch 24: saving model to Gesture_recog_2024-05-0106_34_30.340110/model-00024-0.42248-0.86727-0.55294-0.79000.keras\n",
      "34/34 [==============================] - 46s 1s/step - loss: 0.4225 - categorical_accuracy: 0.8673 - val_loss: 0.5529 - val_categorical_accuracy: 0.7900 - lr: 8.0000e-06\n",
      "Epoch 25/25\n",
      "34/34 [==============================] - ETA: 0s - loss: 0.4089 - categorical_accuracy: 0.8718\n",
      "Epoch 25: saving model to Gesture_recog_2024-05-0106_34_30.340110/model-00025-0.40895-0.87179-0.79638-0.69000.keras\n",
      "34/34 [==============================] - 47s 1s/step - loss: 0.4089 - categorical_accuracy: 0.8718 - val_loss: 0.7964 - val_categorical_accuracy: 0.6900 - lr: 8.0000e-06\n"
     ]
    }
   ],
   "source": [
    "history_conv2d_2 = model_train_fit(convd2_model_2,train_path,train_doc,val_path, val_doc,batch_size,\n",
    "                      frame_count,img_y,img_z,num_train_sequences,num_val_sequences,num_epochs)"
   ]
  },
  {
   "cell_type": "code",
   "execution_count": null,
   "metadata": {
    "colab": {
     "base_uri": "https://localhost:8080/",
     "height": 699
    },
    "id": "-lGndBdwp-LR",
    "outputId": "45b6d3e1-c216-498b-951e-8ba1f93541c4"
   },
   "outputs": [
    {
     "data": {
      "image/png": "[encoded data removed]",
      "text/plain": [
       "<Figure size 800x800 with 2 Axes>"
      ]
     },
     "metadata": {},
     "output_type": "display_data"
    }
   ],
   "source": [
    "plot_model(history_conv2d_2,25)"
   ]
  },
  {
   "cell_type": "markdown",
   "metadata": {},
   "source": [
    "Observation: Model validation accuracy improved as compare to previous model,But next trying increase GRU to furture improve the validation accuracy."
   ]
  },
  {
   "cell_type": "markdown",
   "metadata": {
    "id": "C60GvsGsaAnj"
   },
   "source": [
    "### Conv2D RNN + GRU Model_7"
   ]
  },
  {
   "cell_type": "code",
   "execution_count": null,
   "metadata": {
    "id": "-hDbO5bQaAnk"
   },
   "outputs": [],
   "source": [
    "def define_conv2d_GRU_model(Input_shape, gru_cells=64, dense_neurons=64,drop_out=0.25):\n",
    "    model = Sequential()\n",
    "    #1st Layer\n",
    "    model.add(TimeDistributed(Conv2D(16, (3, 3) , padding='same', activation='relu'),\n",
    "                              input_shape=Input_shape))\n",
    "    model.add(TimeDistributed(BatchNormalization()))\n",
    "    model.add(TimeDistributed(MaxPooling2D((2, 2))))\n",
    "\n",
    "    #2nd Layer\n",
    "    model.add(TimeDistributed(Conv2D(32, (3, 3) , padding='same', activation='relu')))\n",
    "    model.add(TimeDistributed(BatchNormalization()))\n",
    "    model.add(TimeDistributed(MaxPooling2D((2, 2))))\n",
    "\n",
    "    #3rd Layer\n",
    "    model.add(TimeDistributed(Conv2D(64, (3, 3) , padding='same', activation='relu')))\n",
    "    model.add(TimeDistributed(BatchNormalization()))\n",
    "    model.add(TimeDistributed(MaxPooling2D((2, 2))))\n",
    "\n",
    "    #4th Layer\n",
    "    model.add(TimeDistributed(Conv2D(128, (3, 3) , padding='same', activation='relu')))\n",
    "    model.add(TimeDistributed(BatchNormalization()))\n",
    "    model.add(TimeDistributed(MaxPooling2D((2, 2))))\n",
    "\n",
    "    #5th Layer\n",
    "    model.add(TimeDistributed(Conv2D(256, (3, 3) , padding='same', activation='relu')))\n",
    "    model.add(TimeDistributed(BatchNormalization()))\n",
    "    model.add(TimeDistributed(MaxPooling2D((2, 2))))\n",
    "\n",
    "    model.add(TimeDistributed(Flatten()))\n",
    "\n",
    "    model.add(GRU(gru_cells))\n",
    "    model.add(Dropout(drop_out))\n",
    "\n",
    "    model.add(Dense(dense_neurons,activation='relu'))\n",
    "    model.add(Dropout(drop_out))\n",
    "\n",
    "    model.add(Dense(5, activation='softmax'))\n",
    "\n",
    "\n",
    "    optimiser = optimizers.Adam()#write your optimizer\n",
    "    model.compile(optimizer=optimiser, loss='categorical_crossentropy', metrics=['categorical_accuracy'])\n",
    "\n",
    "    return model"
   ]
  },
  {
   "cell_type": "code",
   "execution_count": null,
   "metadata": {
    "colab": {
     "base_uri": "https://localhost:8080/"
    },
    "id": "UmdlHB4SBg8E",
    "outputId": "271d6d03-76a5-4fe7-a6fb-81fdae9f9abd"
   },
   "outputs": [
    {
     "name": "stdout",
     "output_type": "stream",
     "text": [
      "Model: \"sequential_5\"\n",
      "_________________________________________________________________\n",
      " Layer (type)                Output Shape              Param #   \n",
      "=================================================================\n",
      " time_distributed_80 (TimeD  (None, 20, 120, 120, 16   448       \n",
      " istributed)                 )                                   \n",
      "                                                                 \n",
      " time_distributed_81 (TimeD  (None, 20, 120, 120, 16   64        \n",
      " istributed)                 )                                   \n",
      "                                                                 \n",
      " time_distributed_82 (TimeD  (None, 20, 60, 60, 16)    0         \n",
      " istributed)                                                     \n",
      "                                                                 \n",
      " time_distributed_83 (TimeD  (None, 20, 60, 60, 32)    4640      \n",
      " istributed)                                                     \n",
      "                                                                 \n",
      " time_distributed_84 (TimeD  (None, 20, 60, 60, 32)    128       \n",
      " istributed)                                                     \n",
      "                                                                 \n",
      " time_distributed_85 (TimeD  (None, 20, 30, 30, 32)    0         \n",
      " istributed)                                                     \n",
      "                                                                 \n",
      " time_distributed_86 (TimeD  (None, 20, 30, 30, 64)    18496     \n",
      " istributed)                                                     \n",
      "                                                                 \n",
      " time_distributed_87 (TimeD  (None, 20, 30, 30, 64)    256       \n",
      " istributed)                                                     \n",
      "                                                                 \n",
      " time_distributed_88 (TimeD  (None, 20, 15, 15, 64)    0         \n",
      " istributed)                                                     \n",
      "                                                                 \n",
      " time_distributed_89 (TimeD  (None, 20, 15, 15, 128)   73856     \n",
      " istributed)                                                     \n",
      "                                                                 \n",
      " time_distributed_90 (TimeD  (None, 20, 15, 15, 128)   512       \n",
      " istributed)                                                     \n",
      "                                                                 \n",
      " time_distributed_91 (TimeD  (None, 20, 7, 7, 128)     0         \n",
      " istributed)                                                     \n",
      "                                                                 \n",
      " time_distributed_92 (TimeD  (None, 20, 7, 7, 256)     295168    \n",
      " istributed)                                                     \n",
      "                                                                 \n",
      " time_distributed_93 (TimeD  (None, 20, 7, 7, 256)     1024      \n",
      " istributed)                                                     \n",
      "                                                                 \n",
      " time_distributed_94 (TimeD  (None, 20, 3, 3, 256)     0         \n",
      " istributed)                                                     \n",
      "                                                                 \n",
      " time_distributed_95 (TimeD  (None, 20, 2304)          0         \n",
      " istributed)                                                     \n",
      "                                                                 \n",
      " gru_3 (GRU)                 (None, 128)               934656    \n",
      "                                                                 \n",
      " dropout_10 (Dropout)        (None, 128)               0         \n",
      "                                                                 \n",
      " dense_10 (Dense)            (None, 128)               16512     \n",
      "                                                                 \n",
      " dropout_11 (Dropout)        (None, 128)               0         \n",
      "                                                                 \n",
      " dense_11 (Dense)            (None, 5)                 645       \n",
      "                                                                 \n",
      "=================================================================\n",
      "Total params: 1346405 (5.14 MB)\n",
      "Trainable params: 1345413 (5.13 MB)\n",
      "Non-trainable params: 992 (3.88 KB)\n",
      "_________________________________________________________________\n",
      "None\n"
     ]
    }
   ],
   "source": [
    "#Finding optimal frame_count and hyper parameters\n",
    "frame_count=20\n",
    "batch_size=20\n",
    "img_y =120\n",
    "img_z =120\n",
    "num_epochs = 25\n",
    "Input_shape = (frame_count, img_y, img_z, 3)\n",
    "convd2_model_GRU = define_conv2d_GRU_model(Input_shape, 128, 128,0.25)\n",
    "print (convd2_model_GRU.summary())"
   ]
  },
  {
   "cell_type": "code",
   "execution_count": null,
   "metadata": {
    "colab": {
     "base_uri": "https://localhost:8080/"
    },
    "id": "6wFE0UhraAnk",
    "outputId": "923efaea-29ec-4683-f318-afd3feb9ed1d"
   },
   "outputs": [
    {
     "name": "stdout",
     "output_type": "stream",
     "text": [
      "Source path =  /content/Project_data/train ; batch size = 20\n",
      "Epoch 1/25\n",
      "34/34 [==============================] - ETA: 0s - loss: 1.3949 - categorical_accuracy: 0.4057Source path =  /content/Project_data/val ; batch size = 20\n",
      "\n",
      "Epoch 1: saving model to Gesture_recog_2024-05-0106_34_30.340110/model-00001-1.39492-0.40573-2.34394-0.21000.keras\n",
      "34/34 [==============================] - 55s 1s/step - loss: 1.3949 - categorical_accuracy: 0.4057 - val_loss: 2.3439 - val_categorical_accuracy: 0.2100 - lr: 0.0010\n",
      "Epoch 2/25\n",
      "33/34 [============================>.] - ETA: 1s - loss: 1.0493 - categorical_accuracy: 0.5591\n",
      "Epoch 2: saving model to Gesture_recog_2024-05-0106_34_30.340110/model-00002-1.04715-0.55958-2.35796-0.29000.keras\n",
      "34/34 [==============================] - 47s 1s/step - loss: 1.0471 - categorical_accuracy: 0.5596 - val_loss: 2.3580 - val_categorical_accuracy: 0.2900 - lr: 0.0010\n",
      "Epoch 3/25\n",
      "34/34 [==============================] - ETA: 0s - loss: 0.8270 - categorical_accuracy: 0.6878\n",
      "Epoch 3: saving model to Gesture_recog_2024-05-0106_34_30.340110/model-00003-0.82697-0.68778-3.94887-0.19000.keras\n",
      "34/34 [==============================] - 48s 1s/step - loss: 0.8270 - categorical_accuracy: 0.6878 - val_loss: 3.9489 - val_categorical_accuracy: 0.1900 - lr: 0.0010\n",
      "Epoch 4/25\n",
      "34/34 [==============================] - ETA: 0s - loss: 0.6660 - categorical_accuracy: 0.7255\n",
      "Epoch 4: saving model to Gesture_recog_2024-05-0106_34_30.340110/model-00004-0.66599-0.72549-4.01137-0.22000.keras\n",
      "\n",
      "Epoch 4: ReduceLROnPlateau reducing learning rate to 0.00020000000949949026.\n",
      "34/34 [==============================] - 47s 1s/step - loss: 0.6660 - categorical_accuracy: 0.7255 - val_loss: 4.0114 - val_categorical_accuracy: 0.2200 - lr: 0.0010\n",
      "Epoch 5/25\n",
      "34/34 [==============================] - ETA: 0s - loss: 0.5445 - categorical_accuracy: 0.8009\n",
      "Epoch 5: saving model to Gesture_recog_2024-05-0106_34_30.340110/model-00005-0.54448-0.80090-3.28027-0.19000.keras\n",
      "34/34 [==============================] - 49s 1s/step - loss: 0.5445 - categorical_accuracy: 0.8009 - val_loss: 3.2803 - val_categorical_accuracy: 0.1900 - lr: 2.0000e-04\n",
      "Epoch 6/25\n",
      "34/34 [==============================] - ETA: 0s - loss: 0.4013 - categorical_accuracy: 0.8477\n",
      "Epoch 6: saving model to Gesture_recog_2024-05-0106_34_30.340110/model-00006-0.40126-0.84766-3.18466-0.21000.keras\n",
      "34/34 [==============================] - 48s 1s/step - loss: 0.4013 - categorical_accuracy: 0.8477 - val_loss: 3.1847 - val_categorical_accuracy: 0.2100 - lr: 2.0000e-04\n",
      "Epoch 7/25\n",
      "34/34 [==============================] - ETA: 0s - loss: 0.3441 - categorical_accuracy: 0.8899\n",
      "Epoch 7: saving model to Gesture_recog_2024-05-0106_34_30.340110/model-00007-0.34409-0.88989-3.35340-0.23000.keras\n",
      "\n",
      "Epoch 7: ReduceLROnPlateau reducing learning rate to 4.0000001899898055e-05.\n",
      "34/34 [==============================] - 47s 1s/step - loss: 0.3441 - categorical_accuracy: 0.8899 - val_loss: 3.3534 - val_categorical_accuracy: 0.2300 - lr: 2.0000e-04\n",
      "Epoch 8/25\n",
      "34/34 [==============================] - ETA: 0s - loss: 0.2820 - categorical_accuracy: 0.9080\n",
      "Epoch 8: saving model to Gesture_recog_2024-05-0106_34_30.340110/model-00008-0.28201-0.90799-3.60957-0.19000.keras\n",
      "34/34 [==============================] - 46s 1s/step - loss: 0.2820 - categorical_accuracy: 0.9080 - val_loss: 3.6096 - val_categorical_accuracy: 0.1900 - lr: 4.0000e-05\n",
      "Epoch 9/25\n",
      "34/34 [==============================] - ETA: 0s - loss: 0.2768 - categorical_accuracy: 0.9140\n",
      "Epoch 9: saving model to Gesture_recog_2024-05-0106_34_30.340110/model-00009-0.27684-0.91403-3.30364-0.19000.keras\n",
      "34/34 [==============================] - 48s 1s/step - loss: 0.2768 - categorical_accuracy: 0.9140 - val_loss: 3.3036 - val_categorical_accuracy: 0.1900 - lr: 4.0000e-05\n",
      "Epoch 10/25\n",
      "34/34 [==============================] - ETA: 0s - loss: 0.2542 - categorical_accuracy: 0.9155\n",
      "Epoch 10: saving model to Gesture_recog_2024-05-0106_34_30.340110/model-00010-0.25423-0.91554-3.13079-0.29000.keras\n",
      "\n",
      "Epoch 10: ReduceLROnPlateau reducing learning rate to 8.000000525498762e-06.\n",
      "34/34 [==============================] - 48s 1s/step - loss: 0.2542 - categorical_accuracy: 0.9155 - val_loss: 3.1308 - val_categorical_accuracy: 0.2900 - lr: 4.0000e-05\n",
      "Epoch 11/25\n",
      "34/34 [==============================] - ETA: 0s - loss: 0.2502 - categorical_accuracy: 0.9140\n",
      "Epoch 11: saving model to Gesture_recog_2024-05-0106_34_30.340110/model-00011-0.25022-0.91403-2.94878-0.25000.keras\n",
      "34/34 [==============================] - 46s 1s/step - loss: 0.2502 - categorical_accuracy: 0.9140 - val_loss: 2.9488 - val_categorical_accuracy: 0.2500 - lr: 8.0000e-06\n",
      "Epoch 12/25\n",
      "34/34 [==============================] - ETA: 0s - loss: 0.2523 - categorical_accuracy: 0.9276\n",
      "Epoch 12: saving model to Gesture_recog_2024-05-0106_34_30.340110/model-00012-0.25231-0.92760-2.54364-0.31000.keras\n",
      "34/34 [==============================] - 47s 1s/step - loss: 0.2523 - categorical_accuracy: 0.9276 - val_loss: 2.5436 - val_categorical_accuracy: 0.3100 - lr: 8.0000e-06\n",
      "Epoch 13/25\n",
      "34/34 [==============================] - ETA: 0s - loss: 0.2301 - categorical_accuracy: 0.9351\n",
      "Epoch 13: saving model to Gesture_recog_2024-05-0106_34_30.340110/model-00013-0.23012-0.93514-2.18453-0.38000.keras\n",
      "34/34 [==============================] - 45s 1s/step - loss: 0.2301 - categorical_accuracy: 0.9351 - val_loss: 2.1845 - val_categorical_accuracy: 0.3800 - lr: 8.0000e-06\n",
      "Epoch 14/25\n",
      "33/34 [============================>.] - ETA: 1s - loss: 0.2343 - categorical_accuracy: 0.9303\n",
      "Epoch 14: saving model to Gesture_recog_2024-05-0106_34_30.340110/model-00014-0.23399-0.93062-1.95188-0.36000.keras\n",
      "34/34 [==============================] - 48s 1s/step - loss: 0.2340 - categorical_accuracy: 0.9306 - val_loss: 1.9519 - val_categorical_accuracy: 0.3600 - lr: 8.0000e-06\n",
      "Epoch 15/25\n",
      "33/34 [============================>.] - ETA: 1s - loss: 0.2289 - categorical_accuracy: 0.9439\n",
      "Epoch 15: saving model to Gesture_recog_2024-05-0106_34_30.340110/model-00015-0.23233-0.94268-1.45478-0.53000.keras\n",
      "34/34 [==============================] - 47s 1s/step - loss: 0.2323 - categorical_accuracy: 0.9427 - val_loss: 1.4548 - val_categorical_accuracy: 0.5300 - lr: 8.0000e-06\n",
      "Epoch 16/25\n",
      "34/34 [==============================] - ETA: 0s - loss: 0.2243 - categorical_accuracy: 0.9412\n",
      "Epoch 16: saving model to Gesture_recog_2024-05-0106_34_30.340110/model-00016-0.22430-0.94118-1.20783-0.55000.keras\n",
      "34/34 [==============================] - 47s 1s/step - loss: 0.2243 - categorical_accuracy: 0.9412 - val_loss: 1.2078 - val_categorical_accuracy: 0.5500 - lr: 8.0000e-06\n",
      "Epoch 17/25\n",
      "33/34 [============================>.] - ETA: 1s - loss: 0.2203 - categorical_accuracy: 0.9424\n",
      "Epoch 17: saving model to Gesture_recog_2024-05-0106_34_30.340110/model-00017-0.21981-0.94268-1.03391-0.58000.keras\n",
      "34/34 [==============================] - 46s 1s/step - loss: 0.2198 - categorical_accuracy: 0.9427 - val_loss: 1.0339 - val_categorical_accuracy: 0.5800 - lr: 8.0000e-06\n",
      "Epoch 18/25\n",
      "34/34 [==============================] - ETA: 0s - loss: 0.2240 - categorical_accuracy: 0.9412\n",
      "Epoch 18: saving model to Gesture_recog_2024-05-0106_34_30.340110/model-00018-0.22403-0.94118-0.81657-0.64000.keras\n",
      "34/34 [==============================] - 48s 1s/step - loss: 0.2240 - categorical_accuracy: 0.9412 - val_loss: 0.8166 - val_categorical_accuracy: 0.6400 - lr: 8.0000e-06\n",
      "Epoch 19/25\n",
      "34/34 [==============================] - ETA: 0s - loss: 0.2437 - categorical_accuracy: 0.9276\n",
      "Epoch 19: saving model to Gesture_recog_2024-05-0106_34_30.340110/model-00019-0.24366-0.92760-0.79165-0.63000.keras\n",
      "34/34 [==============================] - 47s 1s/step - loss: 0.2437 - categorical_accuracy: 0.9276 - val_loss: 0.7916 - val_categorical_accuracy: 0.6300 - lr: 8.0000e-06\n",
      "Epoch 20/25\n",
      "34/34 [==============================] - ETA: 0s - loss: 0.2219 - categorical_accuracy: 0.9336\n",
      "Epoch 20: saving model to Gesture_recog_2024-05-0106_34_30.340110/model-00020-0.22186-0.93363-0.66062-0.72000.keras\n",
      "34/34 [==============================] - 47s 1s/step - loss: 0.2219 - categorical_accuracy: 0.9336 - val_loss: 0.6606 - val_categorical_accuracy: 0.7200 - lr: 8.0000e-06\n",
      "Epoch 21/25\n",
      "33/34 [============================>.] - ETA: 1s - loss: 0.2183 - categorical_accuracy: 0.9394\n",
      "Epoch 21: saving model to Gesture_recog_2024-05-0106_34_30.340110/model-00021-0.21783-0.93967-0.59249-0.77000.keras\n",
      "34/34 [==============================] - 47s 1s/step - loss: 0.2178 - categorical_accuracy: 0.9397 - val_loss: 0.5925 - val_categorical_accuracy: 0.7700 - lr: 8.0000e-06\n",
      "Epoch 22/25\n",
      "34/34 [==============================] - ETA: 0s - loss: 0.2223 - categorical_accuracy: 0.9397\n",
      "Epoch 22: saving model to Gesture_recog_2024-05-0106_34_30.340110/model-00022-0.22225-0.93967-0.59103-0.79000.keras\n",
      "34/34 [==============================] - 47s 1s/step - loss: 0.2223 - categorical_accuracy: 0.9397 - val_loss: 0.5910 - val_categorical_accuracy: 0.7900 - lr: 8.0000e-06\n",
      "Epoch 23/25\n",
      "34/34 [==============================] - ETA: 0s - loss: 0.2166 - categorical_accuracy: 0.9427\n",
      "Epoch 23: saving model to Gesture_recog_2024-05-0106_34_30.340110/model-00023-0.21660-0.94268-0.43288-0.83000.keras\n",
      "34/34 [==============================] - 48s 1s/step - loss: 0.2166 - categorical_accuracy: 0.9427 - val_loss: 0.4329 - val_categorical_accuracy: 0.8300 - lr: 8.0000e-06\n",
      "Epoch 24/25\n",
      "34/34 [==============================] - ETA: 0s - loss: 0.1969 - categorical_accuracy: 0.9442\n",
      "Epoch 24: saving model to Gesture_recog_2024-05-0106_34_30.340110/model-00024-0.19688-0.94419-0.60311-0.80000.keras\n",
      "34/34 [==============================] - 47s 1s/step - loss: 0.1969 - categorical_accuracy: 0.9442 - val_loss: 0.6031 - val_categorical_accuracy: 0.8000 - lr: 8.0000e-06\n",
      "Epoch 25/25\n",
      "34/34 [==============================] - ETA: 0s - loss: 0.2122 - categorical_accuracy: 0.9487\n",
      "Epoch 25: saving model to Gesture_recog_2024-05-0106_34_30.340110/model-00025-0.21222-0.94872-0.60631-0.79000.keras\n",
      "34/34 [==============================] - 47s 1s/step - loss: 0.2122 - categorical_accuracy: 0.9487 - val_loss: 0.6063 - val_categorical_accuracy: 0.7900 - lr: 8.0000e-06\n"
     ]
    }
   ],
   "source": [
    "history_conv2d_GRU = model_train_fit(convd2_model_GRU,train_path,train_doc,val_path, val_doc,batch_size,\n",
    "                      frame_count,img_y,img_z,num_train_sequences,num_val_sequences,num_epochs)"
   ]
  },
  {
   "cell_type": "markdown",
   "metadata": {},
   "source": [
    "Observation as per above model we are getting good training accuracy but not the good val accuracy"
   ]
  },
  {
   "cell_type": "markdown",
   "metadata": {
    "id": "Dpjr2yFilmDP"
   },
   "source": [
    "### Conv2D RNN + GRU Model_8\n",
    "Increased dropout % it was slightly overfitting in the previous GRU model\n",
    "\n"
   ]
  },
  {
   "cell_type": "code",
   "execution_count": null,
   "metadata": {
    "colab": {
     "base_uri": "https://localhost:8080/"
    },
    "id": "PagFuOsoL1sM",
    "outputId": "dc25e383-89ac-45cd-cb55-7ea7db727026"
   },
   "outputs": [
    {
     "name": "stdout",
     "output_type": "stream",
     "text": [
      "Model: \"sequential_6\"\n",
      "_________________________________________________________________\n",
      " Layer (type)                Output Shape              Param #   \n",
      "=================================================================\n",
      " time_distributed_96 (TimeD  (None, 20, 120, 120, 16   448       \n",
      " istributed)                 )                                   \n",
      "                                                                 \n",
      " time_distributed_97 (TimeD  (None, 20, 120, 120, 16   64        \n",
      " istributed)                 )                                   \n",
      "                                                                 \n",
      " time_distributed_98 (TimeD  (None, 20, 60, 60, 16)    0         \n",
      " istributed)                                                     \n",
      "                                                                 \n",
      " time_distributed_99 (TimeD  (None, 20, 60, 60, 32)    4640      \n",
      " istributed)                                                     \n",
      "                                                                 \n",
      " time_distributed_100 (Time  (None, 20, 60, 60, 32)    128       \n",
      " Distributed)                                                    \n",
      "                                                                 \n",
      " time_distributed_101 (Time  (None, 20, 30, 30, 32)    0         \n",
      " Distributed)                                                    \n",
      "                                                                 \n",
      " time_distributed_102 (Time  (None, 20, 30, 30, 64)    18496     \n",
      " Distributed)                                                    \n",
      "                                                                 \n",
      " time_distributed_103 (Time  (None, 20, 30, 30, 64)    256       \n",
      " Distributed)                                                    \n",
      "                                                                 \n",
      " time_distributed_104 (Time  (None, 20, 15, 15, 64)    0         \n",
      " Distributed)                                                    \n",
      "                                                                 \n",
      " time_distributed_105 (Time  (None, 20, 15, 15, 128)   73856     \n",
      " Distributed)                                                    \n",
      "                                                                 \n",
      " time_distributed_106 (Time  (None, 20, 15, 15, 128)   512       \n",
      " Distributed)                                                    \n",
      "                                                                 \n",
      " time_distributed_107 (Time  (None, 20, 7, 7, 128)     0         \n",
      " Distributed)                                                    \n",
      "                                                                 \n",
      " time_distributed_108 (Time  (None, 20, 7, 7, 256)     295168    \n",
      " Distributed)                                                    \n",
      "                                                                 \n",
      " time_distributed_109 (Time  (None, 20, 7, 7, 256)     1024      \n",
      " Distributed)                                                    \n",
      "                                                                 \n",
      " time_distributed_110 (Time  (None, 20, 3, 3, 256)     0         \n",
      " Distributed)                                                    \n",
      "                                                                 \n",
      " time_distributed_111 (Time  (None, 20, 2304)          0         \n",
      " Distributed)                                                    \n",
      "                                                                 \n",
      " gru_4 (GRU)                 (None, 128)               934656    \n",
      "                                                                 \n",
      " dropout_12 (Dropout)        (None, 128)               0         \n",
      "                                                                 \n",
      " dense_12 (Dense)            (None, 128)               16512     \n",
      "                                                                 \n",
      " dropout_13 (Dropout)        (None, 128)               0         \n",
      "                                                                 \n",
      " dense_13 (Dense)            (None, 5)                 645       \n",
      "                                                                 \n",
      "=================================================================\n",
      "Total params: 1346405 (5.14 MB)\n",
      "Trainable params: 1345413 (5.13 MB)\n",
      "Non-trainable params: 992 (3.88 KB)\n",
      "_________________________________________________________________\n",
      "None\n"
     ]
    }
   ],
   "source": [
    "#Finding optimal frame_count and hyper parameters\n",
    "frame_count=20\n",
    "batch_size=20\n",
    "img_y =120\n",
    "img_z =120\n",
    "num_epochs = 25\n",
    "Input_shape = (frame_count, img_y, img_z, 3)\n",
    "convd2_model_GRU2 = define_conv2d_GRU_model(Input_shape, 128, 128,0.35)\n",
    "print (convd2_model_GRU2.summary())"
   ]
  },
  {
   "cell_type": "code",
   "execution_count": null,
   "metadata": {
    "colab": {
     "base_uri": "https://localhost:8080/"
    },
    "id": "Tsk5ecHUMknr",
    "outputId": "eec92f67-eff2-4e98-fadb-125383a399fe"
   },
   "outputs": [
    {
     "name": "stdout",
     "output_type": "stream",
     "text": [
      "Source path =  /content/Project_data/train ; batch size = 20\n",
      "Epoch 1/25\n",
      "34/34 [==============================] - ETA: 0s - loss: 1.5021 - categorical_accuracy: 0.3680Source path =  /content/Project_data/val ; batch size = 20\n",
      "\n",
      "Epoch 1: saving model to Gesture_recog_2024-05-0106_34_30.340110/model-00001-1.50206-0.36802-2.14337-0.22000.keras\n",
      "34/34 [==============================] - 58s 2s/step - loss: 1.5021 - categorical_accuracy: 0.3680 - val_loss: 2.1434 - val_categorical_accuracy: 0.2200 - lr: 0.0010\n",
      "Epoch 2/25\n",
      "33/34 [============================>.] - ETA: 1s - loss: 1.2007 - categorical_accuracy: 0.5182\n",
      "Epoch 2: saving model to Gesture_recog_2024-05-0106_34_30.340110/model-00002-1.19987-0.51735-2.41939-0.16000.keras\n",
      "34/34 [==============================] - 47s 1s/step - loss: 1.1999 - categorical_accuracy: 0.5173 - val_loss: 2.4194 - val_categorical_accuracy: 0.1600 - lr: 0.0010\n",
      "Epoch 3/25\n",
      "34/34 [==============================] - ETA: 0s - loss: 1.0081 - categorical_accuracy: 0.6063\n",
      "Epoch 3: saving model to Gesture_recog_2024-05-0106_34_30.340110/model-00003-1.00811-0.60633-2.14673-0.21000.keras\n",
      "34/34 [==============================] - 46s 1s/step - loss: 1.0081 - categorical_accuracy: 0.6063 - val_loss: 2.1467 - val_categorical_accuracy: 0.2100 - lr: 0.0010\n",
      "Epoch 4/25\n",
      "34/34 [==============================] - ETA: 0s - loss: 0.9025 - categorical_accuracy: 0.6516\n",
      "Epoch 4: saving model to Gesture_recog_2024-05-0106_34_30.340110/model-00004-0.90247-0.65158-2.14142-0.21000.keras\n",
      "34/34 [==============================] - 47s 1s/step - loss: 0.9025 - categorical_accuracy: 0.6516 - val_loss: 2.1414 - val_categorical_accuracy: 0.2100 - lr: 0.0010\n",
      "Epoch 5/25\n",
      "34/34 [==============================] - ETA: 0s - loss: 0.8203 - categorical_accuracy: 0.6727\n",
      "Epoch 5: saving model to Gesture_recog_2024-05-0106_34_30.340110/model-00005-0.82034-0.67270-2.82971-0.19000.keras\n",
      "34/34 [==============================] - 49s 1s/step - loss: 0.8203 - categorical_accuracy: 0.6727 - val_loss: 2.8297 - val_categorical_accuracy: 0.1900 - lr: 0.0010\n",
      "Epoch 6/25\n",
      "34/34 [==============================] - ETA: 0s - loss: 0.7500 - categorical_accuracy: 0.6953\n",
      "Epoch 6: saving model to Gesture_recog_2024-05-0106_34_30.340110/model-00006-0.74998-0.69532-1.91843-0.37000.keras\n",
      "34/34 [==============================] - 47s 1s/step - loss: 0.7500 - categorical_accuracy: 0.6953 - val_loss: 1.9184 - val_categorical_accuracy: 0.3700 - lr: 0.0010\n",
      "Epoch 7/25\n",
      "33/34 [============================>.] - ETA: 1s - loss: 0.6607 - categorical_accuracy: 0.7333\n",
      "Epoch 7: saving model to Gesture_recog_2024-05-0106_34_30.340110/model-00007-0.65841-0.73454-1.85970-0.37000.keras\n",
      "34/34 [==============================] - 47s 1s/step - loss: 0.6584 - categorical_accuracy: 0.7345 - val_loss: 1.8597 - val_categorical_accuracy: 0.3700 - lr: 0.0010\n",
      "Epoch 8/25\n",
      "34/34 [==============================] - ETA: 0s - loss: 0.6059 - categorical_accuracy: 0.7692\n",
      "Epoch 8: saving model to Gesture_recog_2024-05-0106_34_30.340110/model-00008-0.60593-0.76923-2.27150-0.37000.keras\n",
      "34/34 [==============================] - 47s 1s/step - loss: 0.6059 - categorical_accuracy: 0.7692 - val_loss: 2.2715 - val_categorical_accuracy: 0.3700 - lr: 0.0010\n",
      "Epoch 9/25\n",
      "34/34 [==============================] - ETA: 0s - loss: 0.5115 - categorical_accuracy: 0.8100\n",
      "Epoch 9: saving model to Gesture_recog_2024-05-0106_34_30.340110/model-00009-0.51149-0.80995-3.26835-0.24000.keras\n",
      "34/34 [==============================] - 48s 1s/step - loss: 0.5115 - categorical_accuracy: 0.8100 - val_loss: 3.2683 - val_categorical_accuracy: 0.2400 - lr: 0.0010\n",
      "Epoch 10/25\n",
      "34/34 [==============================] - ETA: 0s - loss: 0.5339 - categorical_accuracy: 0.8250\n",
      "Epoch 10: saving model to Gesture_recog_2024-05-0106_34_30.340110/model-00010-0.53389-0.82504-1.81243-0.38000.keras\n",
      "34/34 [==============================] - 49s 1s/step - loss: 0.5339 - categorical_accuracy: 0.8250 - val_loss: 1.8124 - val_categorical_accuracy: 0.3800 - lr: 0.0010\n",
      "Epoch 11/25\n",
      "34/34 [==============================] - ETA: 0s - loss: 0.5195 - categorical_accuracy: 0.8281\n",
      "Epoch 11: saving model to Gesture_recog_2024-05-0106_34_30.340110/model-00011-0.51951-0.82805-1.45245-0.41000.keras\n",
      "34/34 [==============================] - 46s 1s/step - loss: 0.5195 - categorical_accuracy: 0.8281 - val_loss: 1.4524 - val_categorical_accuracy: 0.4100 - lr: 0.0010\n",
      "Epoch 12/25\n",
      "33/34 [============================>.] - ETA: 1s - loss: 0.4759 - categorical_accuracy: 0.8258\n",
      "Epoch 12: saving model to Gesture_recog_2024-05-0106_34_30.340110/model-00012-0.47420-0.82655-1.84284-0.44000.keras\n",
      "34/34 [==============================] - 48s 1s/step - loss: 0.4742 - categorical_accuracy: 0.8265 - val_loss: 1.8428 - val_categorical_accuracy: 0.4400 - lr: 0.0010\n",
      "Epoch 13/25\n",
      "33/34 [============================>.] - ETA: 1s - loss: 0.3881 - categorical_accuracy: 0.8561\n",
      "Epoch 13: saving model to Gesture_recog_2024-05-0106_34_30.340110/model-00013-0.38731-0.85671-0.98853-0.66000.keras\n",
      "34/34 [==============================] - 47s 1s/step - loss: 0.3873 - categorical_accuracy: 0.8567 - val_loss: 0.9885 - val_categorical_accuracy: 0.6600 - lr: 0.0010\n",
      "Epoch 14/25\n",
      "34/34 [==============================] - ETA: 0s - loss: 0.3128 - categorical_accuracy: 0.8899\n",
      "Epoch 14: saving model to Gesture_recog_2024-05-0106_34_30.340110/model-00014-0.31278-0.88989-2.17428-0.39000.keras\n",
      "34/34 [==============================] - 48s 1s/step - loss: 0.3128 - categorical_accuracy: 0.8899 - val_loss: 2.1743 - val_categorical_accuracy: 0.3900 - lr: 0.0010\n",
      "Epoch 15/25\n",
      "34/34 [==============================] - ETA: 0s - loss: 0.2638 - categorical_accuracy: 0.8989\n",
      "Epoch 15: saving model to Gesture_recog_2024-05-0106_34_30.340110/model-00015-0.26380-0.89894-1.82049-0.51000.keras\n",
      "34/34 [==============================] - 47s 1s/step - loss: 0.2638 - categorical_accuracy: 0.8989 - val_loss: 1.8205 - val_categorical_accuracy: 0.5100 - lr: 0.0010\n",
      "Epoch 16/25\n",
      "34/34 [==============================] - ETA: 0s - loss: 0.3422 - categorical_accuracy: 0.8688\n",
      "Epoch 16: saving model to Gesture_recog_2024-05-0106_34_30.340110/model-00016-0.34219-0.86878-0.97320-0.66000.keras\n",
      "34/34 [==============================] - 47s 1s/step - loss: 0.3422 - categorical_accuracy: 0.8688 - val_loss: 0.9732 - val_categorical_accuracy: 0.6600 - lr: 0.0010\n",
      "Epoch 17/25\n",
      "34/34 [==============================] - ETA: 0s - loss: 0.2811 - categorical_accuracy: 0.8989\n",
      "Epoch 17: saving model to Gesture_recog_2024-05-0106_34_30.340110/model-00017-0.28112-0.89894-0.79891-0.75000.keras\n",
      "34/34 [==============================] - 47s 1s/step - loss: 0.2811 - categorical_accuracy: 0.8989 - val_loss: 0.7989 - val_categorical_accuracy: 0.7500 - lr: 0.0010\n",
      "Epoch 18/25\n",
      "33/34 [============================>.] - ETA: 1s - loss: 0.2356 - categorical_accuracy: 0.9136\n",
      "Epoch 18: saving model to Gesture_recog_2024-05-0106_34_30.340110/model-00018-0.23497-0.91403-1.28168-0.69000.keras\n",
      "34/34 [==============================] - 48s 1s/step - loss: 0.2350 - categorical_accuracy: 0.9140 - val_loss: 1.2817 - val_categorical_accuracy: 0.6900 - lr: 0.0010\n",
      "Epoch 19/25\n",
      "34/34 [==============================] - ETA: 0s - loss: 0.1856 - categorical_accuracy: 0.9351\n",
      "Epoch 19: saving model to Gesture_recog_2024-05-0106_34_30.340110/model-00019-0.18557-0.93514-0.65246-0.77000.keras\n",
      "34/34 [==============================] - 48s 1s/step - loss: 0.1856 - categorical_accuracy: 0.9351 - val_loss: 0.6525 - val_categorical_accuracy: 0.7700 - lr: 0.0010\n",
      "Epoch 20/25\n",
      "33/34 [============================>.] - ETA: 1s - loss: 0.1554 - categorical_accuracy: 0.9500\n",
      "Epoch 20: saving model to Gesture_recog_2024-05-0106_34_30.340110/model-00020-0.16201-0.94872-0.89349-0.71000.keras\n",
      "34/34 [==============================] - 47s 1s/step - loss: 0.1620 - categorical_accuracy: 0.9487 - val_loss: 0.8935 - val_categorical_accuracy: 0.7100 - lr: 0.0010\n",
      "Epoch 21/25\n",
      "33/34 [============================>.] - ETA: 1s - loss: 0.1341 - categorical_accuracy: 0.9545\n",
      "Epoch 21: saving model to Gesture_recog_2024-05-0106_34_30.340110/model-00021-0.13354-0.95475-0.79251-0.78000.keras\n",
      "34/34 [==============================] - 47s 1s/step - loss: 0.1335 - categorical_accuracy: 0.9548 - val_loss: 0.7925 - val_categorical_accuracy: 0.7800 - lr: 0.0010\n",
      "Epoch 22/25\n",
      "34/34 [==============================] - ETA: 0s - loss: 0.1377 - categorical_accuracy: 0.9502\n",
      "Epoch 22: saving model to Gesture_recog_2024-05-0106_34_30.340110/model-00022-0.13767-0.95023-1.20679-0.61000.keras\n",
      "\n",
      "Epoch 22: ReduceLROnPlateau reducing learning rate to 0.00020000000949949026.\n",
      "34/34 [==============================] - 47s 1s/step - loss: 0.1377 - categorical_accuracy: 0.9502 - val_loss: 1.2068 - val_categorical_accuracy: 0.6100 - lr: 0.0010\n",
      "Epoch 23/25\n",
      "33/34 [============================>.] - ETA: 1s - loss: 0.0880 - categorical_accuracy: 0.9712\n",
      "Epoch 23: saving model to Gesture_recog_2024-05-0106_34_30.340110/model-00023-0.09691-0.96833-0.80637-0.71000.keras\n",
      "34/34 [==============================] - 48s 1s/step - loss: 0.0969 - categorical_accuracy: 0.9683 - val_loss: 0.8064 - val_categorical_accuracy: 0.7100 - lr: 2.0000e-04\n",
      "Epoch 24/25\n",
      "34/34 [==============================] - ETA: 0s - loss: 0.1170 - categorical_accuracy: 0.9623\n",
      "Epoch 24: saving model to Gesture_recog_2024-05-0106_34_30.340110/model-00024-0.11704-0.96229-0.87815-0.70000.keras\n",
      "34/34 [==============================] - 46s 1s/step - loss: 0.1170 - categorical_accuracy: 0.9623 - val_loss: 0.8782 - val_categorical_accuracy: 0.7000 - lr: 2.0000e-04\n",
      "Epoch 25/25\n",
      "34/34 [==============================] - ETA: 0s - loss: 0.0654 - categorical_accuracy: 0.9819\n",
      "Epoch 25: saving model to Gesture_recog_2024-05-0106_34_30.340110/model-00025-0.06535-0.98190-0.65497-0.79000.keras\n",
      "\n",
      "Epoch 25: ReduceLROnPlateau reducing learning rate to 4.0000001899898055e-05.\n",
      "34/34 [==============================] - 46s 1s/step - loss: 0.0654 - categorical_accuracy: 0.9819 - val_loss: 0.6550 - val_categorical_accuracy: 0.7900 - lr: 2.0000e-04\n"
     ]
    }
   ],
   "source": [
    "history_conv2d_GRU2 = model_train_fit(convd2_model_GRU2,train_path,train_doc,val_path, val_doc,batch_size,\n",
    "                      frame_count,img_y,img_z,num_train_sequences,num_val_sequences,num_epochs)"
   ]
  },
  {
   "cell_type": "markdown",
   "metadata": {},
   "source": [
    "Observations : Validation accuracy need to improve"
   ]
  },
  {
   "cell_type": "markdown",
   "metadata": {},
   "source": [
    "### Conv2D RNN + GRU Model_9"
   ]
  },
  {
   "cell_type": "code",
   "execution_count": null,
   "metadata": {
    "colab": {
     "base_uri": "https://localhost:8080/"
    },
    "id": "GR8G4uOgRNAP",
    "outputId": "26a1c049-4475-4f53-a2a6-4d41d75ab46e"
   },
   "outputs": [
    {
     "name": "stdout",
     "output_type": "stream",
     "text": [
      "Model: \"sequential_7\"\n",
      "_________________________________________________________________\n",
      " Layer (type)                Output Shape              Param #   \n",
      "=================================================================\n",
      " time_distributed_112 (Time  (None, 18, 120, 120, 16   448       \n",
      " Distributed)                )                                   \n",
      "                                                                 \n",
      " time_distributed_113 (Time  (None, 18, 120, 120, 16   64        \n",
      " Distributed)                )                                   \n",
      "                                                                 \n",
      " time_distributed_114 (Time  (None, 18, 60, 60, 16)    0         \n",
      " Distributed)                                                    \n",
      "                                                                 \n",
      " time_distributed_115 (Time  (None, 18, 60, 60, 32)    4640      \n",
      " Distributed)                                                    \n",
      "                                                                 \n",
      " time_distributed_116 (Time  (None, 18, 60, 60, 32)    128       \n",
      " Distributed)                                                    \n",
      "                                                                 \n",
      " time_distributed_117 (Time  (None, 18, 30, 30, 32)    0         \n",
      " Distributed)                                                    \n",
      "                                                                 \n",
      " time_distributed_118 (Time  (None, 18, 30, 30, 64)    18496     \n",
      " Distributed)                                                    \n",
      "                                                                 \n",
      " time_distributed_119 (Time  (None, 18, 30, 30, 64)    256       \n",
      " Distributed)                                                    \n",
      "                                                                 \n",
      " time_distributed_120 (Time  (None, 18, 15, 15, 64)    0         \n",
      " Distributed)                                                    \n",
      "                                                                 \n",
      " time_distributed_121 (Time  (None, 18, 15, 15, 128)   73856     \n",
      " Distributed)                                                    \n",
      "                                                                 \n",
      " time_distributed_122 (Time  (None, 18, 15, 15, 128)   512       \n",
      " Distributed)                                                    \n",
      "                                                                 \n",
      " time_distributed_123 (Time  (None, 18, 7, 7, 128)     0         \n",
      " Distributed)                                                    \n",
      "                                                                 \n",
      " time_distributed_124 (Time  (None, 18, 7, 7, 256)     295168    \n",
      " Distributed)                                                    \n",
      "                                                                 \n",
      " time_distributed_125 (Time  (None, 18, 7, 7, 256)     1024      \n",
      " Distributed)                                                    \n",
      "                                                                 \n",
      " time_distributed_126 (Time  (None, 18, 3, 3, 256)     0         \n",
      " Distributed)                                                    \n",
      "                                                                 \n",
      " time_distributed_127 (Time  (None, 18, 2304)          0         \n",
      " Distributed)                                                    \n",
      "                                                                 \n",
      " gru_5 (GRU)                 (None, 128)               934656    \n",
      "                                                                 \n",
      " dropout_14 (Dropout)        (None, 128)               0         \n",
      "                                                                 \n",
      " dense_14 (Dense)            (None, 128)               16512     \n",
      "                                                                 \n",
      " dropout_15 (Dropout)        (None, 128)               0         \n",
      "                                                                 \n",
      " dense_15 (Dense)            (None, 5)                 645       \n",
      "                                                                 \n",
      "=================================================================\n",
      "Total params: 1346405 (5.14 MB)\n",
      "Trainable params: 1345413 (5.13 MB)\n",
      "Non-trainable params: 992 (3.88 KB)\n",
      "_________________________________________________________________\n",
      "None\n"
     ]
    }
   ],
   "source": [
    "#Finding optimal frame_count and hyper parameters\n",
    "frame_count=18\n",
    "batch_size=20\n",
    "img_y =120\n",
    "img_z =120\n",
    "num_epochs = 25\n",
    "Input_shape = (frame_count, img_y, img_z, 3)\n",
    "convd2_model_GRU3 = define_conv2d_GRU_model(Input_shape, 128, 128,0.35)\n",
    "print (convd2_model_GRU3.summary())"
   ]
  },
  {
   "cell_type": "code",
   "execution_count": null,
   "metadata": {
    "colab": {
     "base_uri": "https://localhost:8080/"
    },
    "id": "eLcrNLUIRU8l",
    "outputId": "e3aa9aa4-d683-4c54-dc60-299e46a077f3"
   },
   "outputs": [
    {
     "name": "stdout",
     "output_type": "stream",
     "text": [
      "Source path =  /content/Project_data/train ; batch size = 20\n",
      "Epoch 1/25\n",
      "34/34 [==============================] - ETA: 0s - loss: 1.5416 - categorical_accuracy: 0.3454Source path =  /content/Project_data/val ; batch size = 20\n",
      "\n",
      "Epoch 1: saving model to Gesture_recog_2024-05-0106_34_30.340110/model-00001-1.54157-0.34540-2.25207-0.18000.keras\n",
      "34/34 [==============================] - 61s 2s/step - loss: 1.5416 - categorical_accuracy: 0.3454 - val_loss: 2.2521 - val_categorical_accuracy: 0.1800 - lr: 0.0010\n",
      "Epoch 2/25\n",
      "33/34 [============================>.] - ETA: 0s - loss: 1.1771 - categorical_accuracy: 0.5015\n",
      "Epoch 2: saving model to Gesture_recog_2024-05-0106_34_30.340110/model-00002-1.17907-0.50075-2.16908-0.25000.keras\n",
      "34/34 [==============================] - 43s 1s/step - loss: 1.1791 - categorical_accuracy: 0.5008 - val_loss: 2.1691 - val_categorical_accuracy: 0.2500 - lr: 0.0010\n",
      "Epoch 3/25\n",
      "34/34 [==============================] - ETA: 0s - loss: 1.0402 - categorical_accuracy: 0.5837\n",
      "Epoch 3: saving model to Gesture_recog_2024-05-0106_34_30.340110/model-00003-1.04020-0.58371-2.06024-0.29000.keras\n",
      "34/34 [==============================] - 43s 1s/step - loss: 1.0402 - categorical_accuracy: 0.5837 - val_loss: 2.0602 - val_categorical_accuracy: 0.2900 - lr: 0.0010\n",
      "Epoch 4/25\n",
      "34/34 [==============================] - ETA: 0s - loss: 0.9044 - categorical_accuracy: 0.6440\n",
      "Epoch 4: saving model to Gesture_recog_2024-05-0106_34_30.340110/model-00004-0.90445-0.64404-2.44096-0.10000.keras\n",
      "34/34 [==============================] - 41s 1s/step - loss: 0.9044 - categorical_accuracy: 0.6440 - val_loss: 2.4410 - val_categorical_accuracy: 0.1000 - lr: 0.0010\n",
      "Epoch 5/25\n",
      "34/34 [==============================] - ETA: 0s - loss: 0.8378 - categorical_accuracy: 0.6742\n",
      "Epoch 5: saving model to Gesture_recog_2024-05-0106_34_30.340110/model-00005-0.83780-0.67421-2.55060-0.19000.keras\n",
      "34/34 [==============================] - 43s 1s/step - loss: 0.8378 - categorical_accuracy: 0.6742 - val_loss: 2.5506 - val_categorical_accuracy: 0.1900 - lr: 0.0010\n",
      "Epoch 6/25\n",
      "34/34 [==============================] - ETA: 0s - loss: 0.7669 - categorical_accuracy: 0.6983\n",
      "Epoch 6: saving model to Gesture_recog_2024-05-0106_34_30.340110/model-00006-0.76695-0.69834-1.73899-0.24000.keras\n",
      "34/34 [==============================] - 41s 1s/step - loss: 0.7669 - categorical_accuracy: 0.6983 - val_loss: 1.7390 - val_categorical_accuracy: 0.2400 - lr: 0.0010\n",
      "Epoch 7/25\n",
      "33/34 [============================>.] - ETA: 1s - loss: 0.7350 - categorical_accuracy: 0.7333\n",
      "Epoch 7: saving model to Gesture_recog_2024-05-0106_34_30.340110/model-00007-0.73224-0.73454-2.08255-0.20000.keras\n",
      "34/34 [==============================] - 43s 1s/step - loss: 0.7322 - categorical_accuracy: 0.7345 - val_loss: 2.0826 - val_categorical_accuracy: 0.2000 - lr: 0.0010\n",
      "Epoch 8/25\n",
      "34/34 [==============================] - ETA: 0s - loss: 0.6495 - categorical_accuracy: 0.7602\n",
      "Epoch 8: saving model to Gesture_recog_2024-05-0106_34_30.340110/model-00008-0.64950-0.76018-1.84262-0.35000.keras\n",
      "34/34 [==============================] - 42s 1s/step - loss: 0.6495 - categorical_accuracy: 0.7602 - val_loss: 1.8426 - val_categorical_accuracy: 0.3500 - lr: 0.0010\n",
      "Epoch 9/25\n",
      "33/34 [============================>.] - ETA: 0s - loss: 0.5580 - categorical_accuracy: 0.7803\n",
      "Epoch 9: saving model to Gesture_recog_2024-05-0106_34_30.340110/model-00009-0.55768-0.78130-2.06414-0.32000.keras\n",
      "\n",
      "Epoch 9: ReduceLROnPlateau reducing learning rate to 0.00020000000949949026.\n",
      "34/34 [==============================] - 42s 1s/step - loss: 0.5577 - categorical_accuracy: 0.7813 - val_loss: 2.0641 - val_categorical_accuracy: 0.3200 - lr: 0.0010\n",
      "Epoch 10/25\n",
      "33/34 [============================>.] - ETA: 1s - loss: 0.4629 - categorical_accuracy: 0.8242\n",
      "Epoch 10: saving model to Gesture_recog_2024-05-0106_34_30.340110/model-00010-0.46402-0.82353-2.54133-0.25000.keras\n",
      "34/34 [==============================] - 41s 1s/step - loss: 0.4640 - categorical_accuracy: 0.8235 - val_loss: 2.5413 - val_categorical_accuracy: 0.2500 - lr: 2.0000e-04\n",
      "Epoch 11/25\n",
      "33/34 [============================>.] - ETA: 1s - loss: 0.3567 - categorical_accuracy: 0.8727\n",
      "Epoch 11: saving model to Gesture_recog_2024-05-0106_34_30.340110/model-00011-0.36056-0.87029-2.31297-0.36000.keras\n",
      "34/34 [==============================] - 43s 1s/step - loss: 0.3606 - categorical_accuracy: 0.8703 - val_loss: 2.3130 - val_categorical_accuracy: 0.3600 - lr: 2.0000e-04\n",
      "Epoch 12/25\n",
      "34/34 [==============================] - ETA: 0s - loss: 0.3192 - categorical_accuracy: 0.8808\n",
      "Epoch 12: saving model to Gesture_recog_2024-05-0106_34_30.340110/model-00012-0.31924-0.88084-2.35299-0.41000.keras\n",
      "\n",
      "Epoch 12: ReduceLROnPlateau reducing learning rate to 4.0000001899898055e-05.\n",
      "34/34 [==============================] - 42s 1s/step - loss: 0.3192 - categorical_accuracy: 0.8808 - val_loss: 2.3530 - val_categorical_accuracy: 0.4100 - lr: 2.0000e-04\n",
      "Epoch 13/25\n",
      "34/34 [==============================] - ETA: 0s - loss: 0.3138 - categorical_accuracy: 0.8808\n",
      "Epoch 13: saving model to Gesture_recog_2024-05-0106_34_30.340110/model-00013-0.31377-0.88084-2.30816-0.37000.keras\n",
      "34/34 [==============================] - 41s 1s/step - loss: 0.3138 - categorical_accuracy: 0.8808 - val_loss: 2.3082 - val_categorical_accuracy: 0.3700 - lr: 4.0000e-05\n",
      "Epoch 14/25\n",
      "34/34 [==============================] - ETA: 0s - loss: 0.2472 - categorical_accuracy: 0.9321\n",
      "Epoch 14: saving model to Gesture_recog_2024-05-0106_34_30.340110/model-00014-0.24725-0.93213-1.87429-0.42000.keras\n",
      "34/34 [==============================] - 44s 1s/step - loss: 0.2472 - categorical_accuracy: 0.9321 - val_loss: 1.8743 - val_categorical_accuracy: 0.4200 - lr: 4.0000e-05\n",
      "Epoch 15/25\n",
      "34/34 [==============================] - ETA: 0s - loss: 0.2643 - categorical_accuracy: 0.9080\n",
      "Epoch 15: saving model to Gesture_recog_2024-05-0106_34_30.340110/model-00015-0.26434-0.90799-1.55688-0.44000.keras\n",
      "34/34 [==============================] - 42s 1s/step - loss: 0.2643 - categorical_accuracy: 0.9080 - val_loss: 1.5569 - val_categorical_accuracy: 0.4400 - lr: 4.0000e-05\n",
      "Epoch 16/25\n",
      "34/34 [==============================] - ETA: 0s - loss: 0.2503 - categorical_accuracy: 0.9140\n",
      "Epoch 16: saving model to Gesture_recog_2024-05-0106_34_30.340110/model-00016-0.25029-0.91403-1.31497-0.53000.keras\n",
      "34/34 [==============================] - 42s 1s/step - loss: 0.2503 - categorical_accuracy: 0.9140 - val_loss: 1.3150 - val_categorical_accuracy: 0.5300 - lr: 4.0000e-05\n",
      "Epoch 17/25\n",
      "34/34 [==============================] - ETA: 0s - loss: 0.2471 - categorical_accuracy: 0.9246\n",
      "Epoch 17: saving model to Gesture_recog_2024-05-0106_34_30.340110/model-00017-0.24715-0.92459-1.13379-0.55000.keras\n",
      "34/34 [==============================] - 41s 1s/step - loss: 0.2471 - categorical_accuracy: 0.9246 - val_loss: 1.1338 - val_categorical_accuracy: 0.5500 - lr: 4.0000e-05\n",
      "Epoch 18/25\n",
      "33/34 [============================>.] - ETA: 1s - loss: 0.2424 - categorical_accuracy: 0.9258\n",
      "Epoch 18: saving model to Gesture_recog_2024-05-0106_34_30.340110/model-00018-0.25458-0.92459-0.91672-0.60000.keras\n",
      "34/34 [==============================] - 44s 1s/step - loss: 0.2546 - categorical_accuracy: 0.9246 - val_loss: 0.9167 - val_categorical_accuracy: 0.6000 - lr: 4.0000e-05\n",
      "Epoch 19/25\n",
      "33/34 [============================>.] - ETA: 0s - loss: 0.2362 - categorical_accuracy: 0.9288\n",
      "Epoch 19: saving model to Gesture_recog_2024-05-0106_34_30.340110/model-00019-0.23531-0.92911-0.80958-0.68000.keras\n",
      "34/34 [==============================] - 41s 1s/step - loss: 0.2353 - categorical_accuracy: 0.9291 - val_loss: 0.8096 - val_categorical_accuracy: 0.6800 - lr: 4.0000e-05\n",
      "Epoch 20/25\n",
      "34/34 [==============================] - ETA: 0s - loss: 0.2459 - categorical_accuracy: 0.9321\n",
      "Epoch 20: saving model to Gesture_recog_2024-05-0106_34_30.340110/model-00020-0.24595-0.93213-0.75647-0.66000.keras\n",
      "34/34 [==============================] - 42s 1s/step - loss: 0.2459 - categorical_accuracy: 0.9321 - val_loss: 0.7565 - val_categorical_accuracy: 0.6600 - lr: 4.0000e-05\n",
      "Epoch 21/25\n",
      "34/34 [==============================] - ETA: 0s - loss: 0.2407 - categorical_accuracy: 0.9306\n",
      "Epoch 21: saving model to Gesture_recog_2024-05-0106_34_30.340110/model-00021-0.24073-0.93062-0.66452-0.73000.keras\n",
      "34/34 [==============================] - 42s 1s/step - loss: 0.2407 - categorical_accuracy: 0.9306 - val_loss: 0.6645 - val_categorical_accuracy: 0.7300 - lr: 4.0000e-05\n",
      "Epoch 22/25\n",
      "34/34 [==============================] - ETA: 0s - loss: 0.2315 - categorical_accuracy: 0.9186\n",
      "Epoch 22: saving model to Gesture_recog_2024-05-0106_34_30.340110/model-00022-0.23147-0.91855-0.67252-0.74000.keras\n",
      "34/34 [==============================] - 43s 1s/step - loss: 0.2315 - categorical_accuracy: 0.9186 - val_loss: 0.6725 - val_categorical_accuracy: 0.7400 - lr: 4.0000e-05\n",
      "Epoch 23/25\n",
      "34/34 [==============================] - ETA: 0s - loss: 0.1946 - categorical_accuracy: 0.9502\n",
      "Epoch 23: saving model to Gesture_recog_2024-05-0106_34_30.340110/model-00023-0.19460-0.95023-0.58692-0.76000.keras\n",
      "34/34 [==============================] - 42s 1s/step - loss: 0.1946 - categorical_accuracy: 0.9502 - val_loss: 0.5869 - val_categorical_accuracy: 0.7600 - lr: 4.0000e-05\n",
      "Epoch 24/25\n",
      "33/34 [============================>.] - ETA: 0s - loss: 0.1788 - categorical_accuracy: 0.9439\n",
      "Epoch 24: saving model to Gesture_recog_2024-05-0106_34_30.340110/model-00024-0.17834-0.94419-0.57284-0.73000.keras\n",
      "34/34 [==============================] - 42s 1s/step - loss: 0.1783 - categorical_accuracy: 0.9442 - val_loss: 0.5728 - val_categorical_accuracy: 0.7300 - lr: 4.0000e-05\n",
      "Epoch 25/25\n",
      "34/34 [==============================] - ETA: 0s - loss: 0.1890 - categorical_accuracy: 0.9412\n",
      "Epoch 25: saving model to Gesture_recog_2024-05-0106_34_30.340110/model-00025-0.18902-0.94118-0.69154-0.73000.keras\n",
      "34/34 [==============================] - 44s 1s/step - loss: 0.1890 - categorical_accuracy: 0.9412 - val_loss: 0.6915 - val_categorical_accuracy: 0.7300 - lr: 4.0000e-05\n"
     ]
    }
   ],
   "source": [
    "history_conv2d_GRU3 = model_train_fit(convd2_model_GRU3,train_path,train_doc,val_path, val_doc,batch_size,\n",
    "                      frame_count,img_y,img_z,num_train_sequences,num_val_sequences,num_epochs)"
   ]
  },
  {
   "cell_type": "markdown",
   "metadata": {},
   "source": [
    "Observation : Model is still overfitting, as compared to previous model categorical accracy is reduced."
   ]
  },
  {
   "cell_type": "markdown",
   "metadata": {
    "id": "_asvh3qTaAnk"
   },
   "source": [
    "### GRU + MobileNet Model_10\n",
    "Transfer learning"
   ]
  },
  {
   "cell_type": "code",
   "execution_count": 18,
   "metadata": {
    "colab": {
     "base_uri": "https://localhost:8080/"
    },
    "executionInfo": {
     "elapsed": 4346,
     "status": "ok",
     "timestamp": 1714562736805,
     "user": {
      "displayName": "Ramakrishna Garudadri",
      "userId": "05811049687691561584"
     },
     "user_tz": -330
    },
    "id": "7dwJxCbTaAno",
    "outputId": "d5046781-1c45-4246-ea5c-2cf3f404e897"
   },
   "outputs": [
    {
     "name": "stderr",
     "output_type": "stream",
     "text": [
      "WARNING:tensorflow:`input_shape` is undefined or non-square, or `rows` is not in [128, 160, 192, 224]. Weights for input shape (224, 224) will be loaded as the default.\n"
     ]
    },
    {
     "name": "stdout",
     "output_type": "stream",
     "text": [
      "Downloading data from https://storage.googleapis.com/tensorflow/keras-applications/mobilenet/mobilenet_1_0_224_tf_no_top.h5\n",
      "17225924/17225924 [==============================] - 2s 0us/step\n"
     ]
    }
   ],
   "source": [
    "from tensorflow.keras.applications import mobilenet\n",
    "\n",
    "mobilenet_transfer = mobilenet.MobileNet(weights='imagenet', include_top=False)\n",
    "\n",
    "def model_gru_mobilenet(Input_shape,gru_cells=64,dense_neurons=64,dropout=0.25):\n",
    "\n",
    "    model = Sequential()\n",
    "    model.add(TimeDistributed(mobilenet_transfer,input_shape=Input_shape))\n",
    "\n",
    "\n",
    "    model.add(TimeDistributed(BatchNormalization()))\n",
    "    model.add(TimeDistributed(MaxPooling2D((2, 2))))\n",
    "    model.add(TimeDistributed(Flatten()))\n",
    "\n",
    "    model.add(GRU(gru_cells))\n",
    "    model.add(Dropout(dropout))\n",
    "\n",
    "    model.add(Dense(dense_neurons,activation='relu'))\n",
    "    model.add(Dropout(dropout))\n",
    "\n",
    "    model.add(Dense(5, activation='softmax'))\n",
    "\n",
    "\n",
    "    optimiser = optimizers.Adam()\n",
    "    model.compile(optimizer=optimiser, loss='categorical_crossentropy', metrics=['categorical_accuracy'])\n",
    "    return model"
   ]
  },
  {
   "cell_type": "code",
   "execution_count": 19,
   "metadata": {
    "colab": {
     "base_uri": "https://localhost:8080/"
    },
    "executionInfo": {
     "elapsed": 1989,
     "status": "ok",
     "timestamp": 1714562750804,
     "user": {
      "displayName": "Ramakrishna Garudadri",
      "userId": "05811049687691561584"
     },
     "user_tz": -330
    },
    "id": "yZ38kxbAaAno",
    "outputId": "05797eb7-fac4-475c-8966-e54ef9a1643f"
   },
   "outputs": [
    {
     "name": "stdout",
     "output_type": "stream",
     "text": [
      "Model: \"sequential\"\n",
      "_________________________________________________________________\n",
      " Layer (type)                Output Shape              Param #   \n",
      "=================================================================\n",
      " time_distributed (TimeDist  (None, 16, 3, 3, 1024)    3228864   \n",
      " ributed)                                                        \n",
      "                                                                 \n",
      " time_distributed_1 (TimeDi  (None, 16, 3, 3, 1024)    4096      \n",
      " stributed)                                                      \n",
      "                                                                 \n",
      " time_distributed_2 (TimeDi  (None, 16, 1, 1, 1024)    0         \n",
      " stributed)                                                      \n",
      "                                                                 \n",
      " time_distributed_3 (TimeDi  (None, 16, 1024)          0         \n",
      " stributed)                                                      \n",
      "                                                                 \n",
      " gru (GRU)                   (None, 64)                209280    \n",
      "                                                                 \n",
      " dropout (Dropout)           (None, 64)                0         \n",
      "                                                                 \n",
      " dense (Dense)               (None, 64)                4160      \n",
      "                                                                 \n",
      " dropout_1 (Dropout)         (None, 64)                0         \n",
      "                                                                 \n",
      " dense_1 (Dense)             (None, 5)                 325       \n",
      "                                                                 \n",
      "=================================================================\n",
      "Total params: 3446725 (13.15 MB)\n",
      "Trainable params: 3422789 (13.06 MB)\n",
      "Non-trainable params: 23936 (93.50 KB)\n",
      "_________________________________________________________________\n",
      "None\n"
     ]
    }
   ],
   "source": [
    "frame_count=16\n",
    "img_y =120\n",
    "img_z =120\n",
    "batch_size=5\n",
    "num_epochs=20\n",
    "Input_shape = (frame_count, img_y, img_z, 3)\n",
    "model_mobilenet= model_gru_mobilenet(Input_shape)\n",
    "print (model_mobilenet.summary())"
   ]
  },
  {
   "cell_type": "code",
   "execution_count": 20,
   "metadata": {
    "colab": {
     "base_uri": "https://localhost:8080/"
    },
    "executionInfo": {
     "elapsed": 814817,
     "status": "ok",
     "timestamp": 1714563577543,
     "user": {
      "displayName": "Ramakrishna Garudadri",
      "userId": "05811049687691561584"
     },
     "user_tz": -330
    },
    "id": "Gi-dIexMaAno",
    "outputId": "f1b31638-de1b-45e1-a092-4492abe0ef83"
   },
   "outputs": [
    {
     "name": "stdout",
     "output_type": "stream",
     "text": [
      "Source path =  /content/Project_data/train ; batch size = 5\n",
      "Epoch 1/20\n",
      "133/133 [==============================] - ETA: 0s - loss: 1.4183 - categorical_accuracy: 0.3665Source path =  /content/Project_data/val ; batch size = 5\n",
      "\n",
      "Epoch 1: val_loss improved from inf to 0.93025, saving model to /content/gdrive/MyDrive/GR_best/Gesture_recog_2024-05-0111_17_02.005883/model-00001-1.41830-0.36652-0.93025-0.61000.keras\n",
      "133/133 [==============================] - 66s 333ms/step - loss: 1.4183 - categorical_accuracy: 0.3665 - val_loss: 0.9302 - val_categorical_accuracy: 0.6100 - lr: 0.0010\n",
      "Epoch 2/20\n",
      "133/133 [==============================] - ETA: 0s - loss: 1.1048 - categorical_accuracy: 0.5611\n",
      "Epoch 2: val_loss improved from 0.93025 to 0.61945, saving model to /content/gdrive/MyDrive/GR_best/Gesture_recog_2024-05-0111_17_02.005883/model-00002-1.10480-0.56109-0.61945-0.80000.keras\n",
      "133/133 [==============================] - 42s 320ms/step - loss: 1.1048 - categorical_accuracy: 0.5611 - val_loss: 0.6195 - val_categorical_accuracy: 0.8000 - lr: 0.0010\n",
      "Epoch 3/20\n",
      "133/133 [==============================] - ETA: 0s - loss: 0.7660 - categorical_accuracy: 0.7119\n",
      "Epoch 3: val_loss improved from 0.61945 to 0.41481, saving model to /content/gdrive/MyDrive/GR_best/Gesture_recog_2024-05-0111_17_02.005883/model-00003-0.76596-0.71192-0.41481-0.85000.keras\n",
      "133/133 [==============================] - 45s 342ms/step - loss: 0.7660 - categorical_accuracy: 0.7119 - val_loss: 0.4148 - val_categorical_accuracy: 0.8500 - lr: 0.0010\n",
      "Epoch 4/20\n",
      "133/133 [==============================] - ETA: 0s - loss: 0.5892 - categorical_accuracy: 0.7888\n",
      "Epoch 4: val_loss did not improve from 0.41481\n",
      "133/133 [==============================] - 39s 295ms/step - loss: 0.5892 - categorical_accuracy: 0.7888 - val_loss: 0.7951 - val_categorical_accuracy: 0.7900 - lr: 0.0010\n",
      "Epoch 5/20\n",
      "133/133 [==============================] - ETA: 0s - loss: 0.6061 - categorical_accuracy: 0.7843\n",
      "Epoch 5: val_loss did not improve from 0.41481\n",
      "133/133 [==============================] - 39s 293ms/step - loss: 0.6061 - categorical_accuracy: 0.7843 - val_loss: 0.5021 - val_categorical_accuracy: 0.7900 - lr: 0.0010\n",
      "Epoch 6/20\n",
      "133/133 [==============================] - ETA: 0s - loss: 0.6631 - categorical_accuracy: 0.7602\n",
      "Epoch 6: val_loss did not improve from 0.41481\n",
      "\n",
      "Epoch 6: ReduceLROnPlateau reducing learning rate to 0.00020000000949949026.\n",
      "133/133 [==============================] - 38s 288ms/step - loss: 0.6631 - categorical_accuracy: 0.7602 - val_loss: 0.5675 - val_categorical_accuracy: 0.8500 - lr: 0.0010\n",
      "Epoch 7/20\n",
      "133/133 [==============================] - ETA: 0s - loss: 0.4763 - categorical_accuracy: 0.8386\n",
      "Epoch 7: val_loss improved from 0.41481 to 0.29749, saving model to /content/gdrive/MyDrive/GR_best/Gesture_recog_2024-05-0111_17_02.005883/model-00007-0.47631-0.83861-0.29749-0.91000.keras\n",
      "133/133 [==============================] - 38s 283ms/step - loss: 0.4763 - categorical_accuracy: 0.8386 - val_loss: 0.2975 - val_categorical_accuracy: 0.9100 - lr: 2.0000e-04\n",
      "Epoch 8/20\n",
      "133/133 [==============================] - ETA: 0s - loss: 0.2954 - categorical_accuracy: 0.9035\n",
      "Epoch 8: val_loss improved from 0.29749 to 0.23584, saving model to /content/gdrive/MyDrive/GR_best/Gesture_recog_2024-05-0111_17_02.005883/model-00008-0.29538-0.90347-0.23584-0.92000.keras\n",
      "133/133 [==============================] - 40s 303ms/step - loss: 0.2954 - categorical_accuracy: 0.9035 - val_loss: 0.2358 - val_categorical_accuracy: 0.9200 - lr: 2.0000e-04\n",
      "Epoch 9/20\n",
      "133/133 [==============================] - ETA: 0s - loss: 0.2378 - categorical_accuracy: 0.9276\n",
      "Epoch 9: val_loss did not improve from 0.23584\n",
      "133/133 [==============================] - 38s 288ms/step - loss: 0.2378 - categorical_accuracy: 0.9276 - val_loss: 0.3011 - val_categorical_accuracy: 0.8600 - lr: 2.0000e-04\n",
      "Epoch 10/20\n",
      "133/133 [==============================] - ETA: 0s - loss: 0.2093 - categorical_accuracy: 0.9291\n",
      "Epoch 10: val_loss did not improve from 0.23584\n",
      "133/133 [==============================] - 42s 318ms/step - loss: 0.2093 - categorical_accuracy: 0.9291 - val_loss: 0.2960 - val_categorical_accuracy: 0.8600 - lr: 2.0000e-04\n",
      "Epoch 11/20\n",
      "133/133 [==============================] - ETA: 0s - loss: 0.1706 - categorical_accuracy: 0.9472\n",
      "Epoch 11: val_loss improved from 0.23584 to 0.20528, saving model to /content/gdrive/MyDrive/GR_best/Gesture_recog_2024-05-0111_17_02.005883/model-00011-0.17061-0.94721-0.20528-0.92000.keras\n",
      "133/133 [==============================] - 39s 293ms/step - loss: 0.1706 - categorical_accuracy: 0.9472 - val_loss: 0.2053 - val_categorical_accuracy: 0.9200 - lr: 2.0000e-04\n",
      "Epoch 12/20\n",
      "133/133 [==============================] - ETA: 0s - loss: 0.1429 - categorical_accuracy: 0.9608\n",
      "Epoch 12: val_loss did not improve from 0.20528\n",
      "133/133 [==============================] - 38s 289ms/step - loss: 0.1429 - categorical_accuracy: 0.9608 - val_loss: 0.2791 - val_categorical_accuracy: 0.9000 - lr: 2.0000e-04\n",
      "Epoch 13/20\n",
      "133/133 [==============================] - ETA: 0s - loss: 0.0985 - categorical_accuracy: 0.9759\n",
      "Epoch 13: val_loss improved from 0.20528 to 0.17483, saving model to /content/gdrive/MyDrive/GR_best/Gesture_recog_2024-05-0111_17_02.005883/model-00013-0.09848-0.97587-0.17483-0.91000.keras\n",
      "133/133 [==============================] - 39s 293ms/step - loss: 0.0985 - categorical_accuracy: 0.9759 - val_loss: 0.1748 - val_categorical_accuracy: 0.9100 - lr: 2.0000e-04\n",
      "Epoch 14/20\n",
      "133/133 [==============================] - ETA: 0s - loss: 0.0947 - categorical_accuracy: 0.9804\n",
      "Epoch 14: val_loss did not improve from 0.17483\n",
      "133/133 [==============================] - 40s 301ms/step - loss: 0.0947 - categorical_accuracy: 0.9804 - val_loss: 0.2161 - val_categorical_accuracy: 0.9400 - lr: 2.0000e-04\n",
      "Epoch 15/20\n",
      "133/133 [==============================] - ETA: 0s - loss: 0.0986 - categorical_accuracy: 0.9759\n",
      "Epoch 15: val_loss did not improve from 0.17483\n",
      "133/133 [==============================] - 38s 289ms/step - loss: 0.0986 - categorical_accuracy: 0.9759 - val_loss: 0.2723 - val_categorical_accuracy: 0.9100 - lr: 2.0000e-04\n",
      "Epoch 16/20\n",
      "133/133 [==============================] - ETA: 0s - loss: 0.0550 - categorical_accuracy: 0.9864\n",
      "Epoch 16: val_loss did not improve from 0.17483\n",
      "\n",
      "Epoch 16: ReduceLROnPlateau reducing learning rate to 4.0000001899898055e-05.\n",
      "133/133 [==============================] - 38s 287ms/step - loss: 0.0550 - categorical_accuracy: 0.9864 - val_loss: 0.1907 - val_categorical_accuracy: 0.9300 - lr: 2.0000e-04\n",
      "Epoch 17/20\n",
      "133/133 [==============================] - ETA: 0s - loss: 0.0498 - categorical_accuracy: 0.9879\n",
      "Epoch 17: val_loss improved from 0.17483 to 0.17316, saving model to /content/gdrive/MyDrive/GR_best/Gesture_recog_2024-05-0111_17_02.005883/model-00017-0.04981-0.98793-0.17316-0.95000.keras\n",
      "133/133 [==============================] - 38s 289ms/step - loss: 0.0498 - categorical_accuracy: 0.9879 - val_loss: 0.1732 - val_categorical_accuracy: 0.9500 - lr: 4.0000e-05\n",
      "Epoch 18/20\n",
      "133/133 [==============================] - ETA: 0s - loss: 0.0432 - categorical_accuracy: 0.9925\n",
      "Epoch 18: val_loss did not improve from 0.17316\n",
      "133/133 [==============================] - 38s 285ms/step - loss: 0.0432 - categorical_accuracy: 0.9925 - val_loss: 0.2356 - val_categorical_accuracy: 0.9300 - lr: 4.0000e-05\n",
      "Epoch 19/20\n",
      "133/133 [==============================] - ETA: 0s - loss: 0.0568 - categorical_accuracy: 0.9849\n",
      "Epoch 19: val_loss did not improve from 0.17316\n",
      "133/133 [==============================] - 40s 299ms/step - loss: 0.0568 - categorical_accuracy: 0.9849 - val_loss: 0.1771 - val_categorical_accuracy: 0.9600 - lr: 4.0000e-05\n",
      "Epoch 20/20\n",
      "133/133 [==============================] - ETA: 0s - loss: 0.0490 - categorical_accuracy: 0.9894\n",
      "Epoch 20: val_loss did not improve from 0.17316\n",
      "\n",
      "Epoch 20: ReduceLROnPlateau reducing learning rate to 8.000000525498762e-06.\n",
      "133/133 [==============================] - 39s 292ms/step - loss: 0.0490 - categorical_accuracy: 0.9894 - val_loss: 0.1791 - val_categorical_accuracy: 0.9500 - lr: 4.0000e-05\n"
     ]
    }
   ],
   "source": [
    "history_transfer = model_train_fit(model_mobilenet,train_path,train_doc,val_path, val_doc,batch_size,frame_count,img_y,img_z,num_train_sequences,num_val_sequences,num_epochs)"
   ]
  },
  {
   "cell_type": "markdown",
   "metadata": {},
   "source": [
    "Observition : We are getting good categorical and validation accuracy."
   ]
  },
  {
   "cell_type": "markdown",
   "metadata": {},
   "source": [
    "#### Conclusion:\n",
    "\n",
    "The Model built with Time distributed Conv2D and ConvLSTM2D gave better results compared to all the other Conv3D models and also the model has very least number of parameters compared to other models.\n",
    "As per the above experiment we have decided to go with CNN-RNN Transferred Learning (GRU) model because it gives the best accuracy as compared to any other model that have been trained.\n"
   ]
  }
 ],
 "metadata": {
  "accelerator": "GPU",
  "colab": {
   "gpuType": "T4",
   "provenance": []
  },
  "kernelspec": {
   "display_name": "Python 3 (ipykernel)",
   "language": "python",
   "name": "python3"
  },
  "language_info": {
   "codemirror_mode": {
    "name": "ipython",
    "version": 3
   },
   "file_extension": ".py",
   "mimetype": "text/x-python",
   "name": "python",
   "nbconvert_exporter": "python",
   "pygments_lexer": "ipython3",
   "version": "3.11.3"
  }
 },
 "nbformat": 4,
 "nbformat_minor": 1
}
